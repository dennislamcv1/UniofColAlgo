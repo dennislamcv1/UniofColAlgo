{
 "cells": [
  {
   "cell_type": "markdown",
   "id": "8c8c8b7c",
   "metadata": {
    "deletable": false,
    "editable": false,
    "nbgrader": {
     "cell_type": "markdown",
     "checksum": "454f22738e429f9eb66bc0d6a8ec27bb",
     "grade": false,
     "grade_id": "cell-b2aba428f86351f3",
     "locked": true,
     "schema_version": 3,
     "solution": false,
     "task": false
    }
   },
   "source": [
    "## Problem Set 4\n",
    "\n",
    "This problem set will build upon ideas for B-Trees and suffix tries that we have already presented in the videos and notes. The code in the notes will be very important for completing this assignment. We suggest that you familiarize yourself with the notes (interactive labs) before starting this problem set."
   ]
  },
  {
   "cell_type": "markdown",
   "id": "05e3cd37",
   "metadata": {
    "deletable": false,
    "editable": false,
    "nbgrader": {
     "cell_type": "markdown",
     "checksum": "ed94692c29a1a03daa5fdd376f228c11",
     "grade": false,
     "grade_id": "cell-6fbaaada6b088a39",
     "locked": true,
     "schema_version": 3,
     "solution": false,
     "task": false
    }
   },
   "source": [
    "## Problem 1 \n",
    "\n",
    "We will revisit the insertion algorithm for B-Trees in this problem. Recall that the insertion algorithm presented in class was rather simple. If a node is full, we split it into two. If needed, we will insert a new key into the parent. This process goes up the tree and if need be, creates a new root node.\n",
    "\n",
    "\n",
    "For this problem, we would like to implement the \"lending scheme\" similar to the \"borrowing scheme\" that we considered for key deletion in B-Trees for the insertion algorithm. The key idea is that if a node is over-full (has $2d + 1$ keys) as a result of an insertion, we would like to perform the following steps:\n",
    "  - Check if the node has a right sibling and it has $< 2d$ keys. If so, shift the rightmost key up to the parent node and the key from the parent node as the leftmost key of the right sibling. If the node/right sibling is not a leaf, we need to move pointers as well.\n",
    "  - Check if the node has a left sibling and it has $< 2d$ keys. If so, shift the leftmost key up to the parent node and the key from the parent node as the rightmost key of the left sibling. If the node/left sibling is not a leaf, we need to move pointers as well.\n",
    "  - If both of the conditions above do not hold, split the node into two according to the median and insert a parent at the leaf. This is the same procedure as before.\n",
    "  \n",
    " The advantages of doing things this way include: (a) efficiency -- we have insertions potentially finishing faster with a few key exchanges (in a real B-Tree the sibling nodes may be on the disk and that may actually cause insertions to be slower but we will ignore this in our implementation); and (b) balance -- splitting a full node into two causes two nodes that are just half full. By lending keys, we are ensuring that splitting only happens when the node and its sibling are at capacity.\n",
    "\n",
    "Here is the base object for a `BTreeNode` given to you exactly as we had implemented in the notes. "
   ]
  },
  {
   "cell_type": "code",
   "execution_count": 1,
   "id": "c157d557",
   "metadata": {
    "ExecuteTime": {
     "end_time": "2024-03-28T16:56:41.418619Z",
     "start_time": "2024-03-28T16:56:41.403118Z"
    },
    "deletable": false,
    "editable": false,
    "nbgrader": {
     "cell_type": "code",
     "checksum": "1f53b31fa92d1f0cedd2ff2b105ddc3c",
     "grade": false,
     "grade_id": "cell-154cf204b34b8a0c",
     "locked": true,
     "schema_version": 3,
     "solution": false,
     "task": false
    }
   },
   "outputs": [],
   "source": [
    "class BTreeNodeBase(object):\n",
    "    def __init__(self, keys = [], ptrs = [], is_root=False, d = 10):\n",
    "        # each internal node must contain at least d keys and at most 2d  keys\n",
    "        # The root which may contain between 0 keys (if entire tree is empty) and 2d keys\n",
    "        self.keys = list(keys) # the keys\n",
    "        self.d = d # the value of d\n",
    "        self.pointers = list(ptrs)  # the pointers \n",
    "        self.is_root = is_root\n",
    "        self.parent = None # either None or a tuple (parent_node, idx) such that parent_node.pointers[idx] = self\n",
    "        \n",
    "    def is_leaf(self):\n",
    "        \"\"\"returns True if the node is a leaf or else returns False\"\"\"\n",
    "        return len(self.pointers) == 0\n",
    "    \n",
    "    def set_parent(self, parent_node, idx):\n",
    "        assert parent_node != None\n",
    "        assert 0 <= idx and idx < len(parent_node.pointers)\n",
    "        assert parent_node.pointers[idx] == self\n",
    "        self.parent = (parent_node, idx)\n",
    "    \n",
    "    def find_key_internal(self, k):\n",
    "        \"\"\" find_key_internal for a key k returns reference to node and the index into keys array if found.\n",
    "            Otherwise, returns None\n",
    "        \"\"\"     \n",
    "        n = len(self.keys)\n",
    "        if n == 0: # empty node return False \n",
    "            return None\n",
    "        # find first index i such that self.keys[i] >= k\n",
    "        i = 0\n",
    "        while i < n and self.keys[i] < k:\n",
    "            i = i + 1\n",
    "        if i < n and self.keys[i] == k:\n",
    "            return (self, i) # we are done: found the key\n",
    "        else: \n",
    "            if  self.is_leaf(): # if we are at a leaf, then key not found\n",
    "                return None\n",
    "            else: # otherwise, we recursively search in the appropriate child node\n",
    "                return self.pointers[i].find_key_internal(k)\n",
    "            \n",
    "    def find_key(self, k):\n",
    "        \"\"\"find_key function to be called by outsiders at the root node\"\"\"\n",
    "        assert self.is_root\n",
    "        res = self.find_key_internal(k) # call the find_key_internal method\n",
    "        return True if res != None else False \n",
    "    \n",
    "    def find_successor(self, idx):\n",
    "        \"\"\"find_successor : traverse the node to the right of idx \n",
    "            and then keep traversing left children until we get to a leaf\"\"\"\n",
    "        assert idx >= 0 and idx < len(self.keys) # assert that the index is a proper index\n",
    "        assert not self.is_leaf() # do not call this function on a leaf\n",
    "        child = self.pointers[idx+1] # get the right child \n",
    "        while not child.is_leaf():\n",
    "            child = child.pointers[0] # go left \n",
    "        assert child.is_leaf() # we have gotten to the leftmost leaf\n",
    "        return (child.keys[0], child)\n",
    "    \n",
    "    def __str__(self):\n",
    "        return str(self.keys)\n",
    "    \n",
    "    def make_networkx_graph(self, G, node_id, parent_id, label_dict):\n",
    "        node_label = str(self.keys)\n",
    "        if self.parent != None:\n",
    "            node_label =  \"C\"+str(self.parent[1]) + \": \" + node_label\n",
    "        else:\n",
    "            node_label = \"R: \"+ node_label\n",
    "        G.add_node(node_id, label=node_label)\n",
    "        label_dict[node_id] = node_label\n",
    "        if parent_id >= 0:\n",
    "            G.add_edge(parent_id, node_id)\n",
    "        n = len(self.pointers)\n",
    "        new_id = node_id+1\n",
    "        for i in range(n):\n",
    "            new_id = self.pointers[i].make_networkx_graph(G, new_id, node_id, label_dict)\n",
    "        return new_id + 1\n",
    "    \n",
    "    def rep_ok(self):\n",
    "        \"\"\"Check if the BTree respects  properties.\"\"\"\n",
    "        n = len(self.keys)\n",
    "        p = len(self.pointers)\n",
    "        d = self.d\n",
    "        # node is a leaf with no pointers or it must have one more pointer than the number of keys\n",
    "        assert p == 0 or p == n + 1, f'Node has {n} keys but {p} pointers'\n",
    "        # are the keys in ascending order \n",
    "        for i in range(1, n):\n",
    "            assert self.keys[i] > self.keys[i-1], f'Keys {keys[i-1]} and {keys[i]} fail to be in ascending order' \n",
    "        if self.is_root:\n",
    "            assert self.parent == None # root has no parent\n",
    "            assert 0 <= n and n <= 2 * d  # number of keys for root must be within [0, 2d]\n",
    "            self.check_height_properties() # check that the length of all paths from root to leaf are the same\n",
    "        else:\n",
    "            assert self.parent != None # non root must have a parent\n",
    "            assert d <= n and n <= 2 * d  # number of keys must be within [d, 2d]\n",
    "        if p >= 1:\n",
    "            for (j, child_node) in enumerate(self.pointers): # for each child node\n",
    "                assert child_node.parent == (self, j) # is the parent pointer of the child node correct?\n",
    "                assert child_node.d == self.d\n",
    "                assert not child_node.is_root\n",
    "                child_node.rep_ok() # check if the child node itself respect properties recursively\n",
    "    \n",
    "    def check_height_properties(self):\n",
    "        \"\"\"Check that the height of all child nodes are the same and return height of self\"\"\"\n",
    "        if self.is_leaf():\n",
    "            return 0\n",
    "        else:\n",
    "            depths= [child.check_height_properties() for child in self.pointers]\n",
    "            d0 = depths[0]\n",
    "            assert all(di == d0 for di in depths), f'Node with keys {self.keys} has mismatched depths'\n",
    "            return 1 + d0\n",
    "        \n",
    "    def create_new_instance(self, keys, ptrs, is_root, d):\n",
    "        \"\"\"We need this to construct a new instance because we chose to split the implementation across three different classes\"\"\"\n",
    "        return BTreeNodeBase(keys, ptrs, is_root, d)"
   ]
  },
  {
   "cell_type": "markdown",
   "id": "4a7e64ca",
   "metadata": {
    "deletable": false,
    "editable": false,
    "nbgrader": {
     "cell_type": "markdown",
     "checksum": "fe95f60be54ae0eabb46cf607234a866",
     "grade": false,
     "grade_id": "cell-d69a38adb89a404f",
     "locked": true,
     "schema_version": 3,
     "solution": false,
     "task": false
    }
   },
   "source": [
    "We would like you to modify the `BTreeNodeWithInsert` class below that implements the insert function. For your convenience, we have modified it so that when a node becomes full, it calls the `handle_full_node` function. This function should \n",
    "  - (a) check if the node has a right sibling and whether it can \"lend\" a key to the right sibling. If so, it should implement that and remember to update the pointers. The function `fix_pointers_for_children` will be very useful.\n",
    "  - (b) check if the node has a left sibling and whether it can \"lend\" a key to the right sibling. If so, it should implement that and remember to update the pointers. The function `fix_pointers_for_children` will be very useful.\n",
    "  - (c) Otherwise, we revert back to the old code for splitting a node that is given to you.\n",
    "  \n",
    " Complete the implementation of the `handle_full_node` function below. Note that it is being called at two places from the `insert_helper` function. "
   ]
  },
  {
   "cell_type": "code",
   "execution_count": 2,
   "id": "d13e0df8",
   "metadata": {
    "ExecuteTime": {
     "end_time": "2024-03-28T17:30:37.263762Z",
     "start_time": "2024-03-28T17:30:37.213996Z"
    },
    "deletable": false,
    "nbgrader": {
     "cell_type": "code",
     "checksum": "3e4ee50211c39c16d5f837b689be64b8",
     "grade": false,
     "grade_id": "cell-35b8730b3977aca3",
     "locked": false,
     "schema_version": 3,
     "solution": true,
     "task": false
    }
   },
   "outputs": [],
   "source": [
    "class BTreeNodeWithInsert(BTreeNodeBase):\n",
    "    \n",
    "    def __init__(self, keys = [], ptrs = [], is_root=False, d = 10):\n",
    "        super().__init__(keys, ptrs, is_root, d)\n",
    "        \n",
    "    def create_new_instance(self, keys, ptrs, is_root, d):\n",
    "        \"\"\"We need this to construct a new instance because we chose to split the implementation across three different classes\"\"\"\n",
    "        return BTreeNodeWithInsert(keys, ptrs, is_root, d)\n",
    "    \n",
    "        \n",
    "    def insert(self, new_key):\n",
    "        \"\"\"Insert a key new_key into the tree. \n",
    "           Call this only when self is the root node\"\"\"\n",
    "        assert self.is_root\n",
    "        res = self.insert_helper(new_key) # the helper function has the logic for insertion\n",
    "        if res != None: \n",
    "            (mid_key, n1, n2) = res # if the helper function returns a triple mid_key and two new nodes\n",
    "            self.is_root = False  # we need to create a new root\n",
    "            new_root = self.create_new_instance( [mid_key], [n1, n2], True, self.d) # create new root with a single key and two children\n",
    "            n1.set_parent(new_root, 0) # set the parent pointers for n1, n2\n",
    "            n2.set_parent(new_root, 1)\n",
    "            return new_root  # return the new_root\n",
    "        else:\n",
    "            return self # Otherwise, the root node is unchanged\n",
    "    \n",
    "    def insert_helper(self, new_key, debug=True):\n",
    "        \"\"\" This is a helper function for inserting a new key new_key into a node. \n",
    "        It returns either None which means that there was space for the key \n",
    "        or a triple (mid_key, n1, n2) to be inserted up into the parent node.\"\"\"\n",
    "        # if the node is a leaf\n",
    "        if self.is_leaf(): \n",
    "            self.insert_key_into_list(new_key) # insert the key into the list\n",
    "            n = len(self.keys)  # count the number of keys\n",
    "            if n <= 2* self.d:  # node size is acceptable\n",
    "                return None       # we are done, return None\n",
    "            else:\n",
    "                # node is full, we need to split \n",
    "                #assert n == 2 * self.d + 1 # Node just became full as a result of this new insertion\n",
    "                #(mid_key, n1, n2) = self.split_node_into_two() # split it into two nodes\n",
    "                #return (mid_key, n1,  n2) # return the two nodes and middle key\n",
    "                return self.handle_full_node()\n",
    "        else:\n",
    "            # find first index i such that self.keys[i] >= k\n",
    "            i = 0\n",
    "            n = len(self.keys)\n",
    "            while i < n and self.keys[i] < new_key:\n",
    "                i = i + 1\n",
    "            # We should not find a copy of the key \n",
    "            if  i < n and self.keys[i] == new_key:\n",
    "                if debug:\n",
    "                    print(f'Key {k} already exists') # this is bad but ignore for now\n",
    "                return None           \n",
    "            else:\n",
    "                res = self.pointers[i].insert_helper(new_key) # insert into the child\n",
    "                if res != None:\n",
    "                    (mid_key, node_left, node_right) = res # unpack\n",
    "                    # insert the new key coming up from the child into self along with the two pointers\n",
    "                    self.insert_key_and_ptr(mid_key, node_left, node_right, i)\n",
    "                    # did the node become full as a result of the insertion?\n",
    "                    if len(self.keys) == 2 * self.d+1:\n",
    "                        return self.handle_full_node()\n",
    "                        #(mid_key, n1, n2) = self.split_node_into_two() # split myself into two\n",
    "                        #return (mid_key, n1, n2) # return the median key and two nodes back to my caller\n",
    "                 \n",
    "            \n",
    "    def insert_key_into_list(self, new_key):\n",
    "        \"\"\"Insert new_key into the list for this node. Call this function only on leaf nodes\"\"\"\n",
    "        assert self.is_leaf()\n",
    "        n = len(self.keys)\n",
    "        assert new_key not in self.keys, f'key {new_key} already exists {self.keys}'\n",
    "        self.keys.append(new_key)\n",
    "        i = n\n",
    "        while i >= 1 and self.keys[i] < self.keys[i-1]:\n",
    "            # swap\n",
    "            (self.keys[i-1], self.keys[i]) =  (self.keys[i], self.keys[i-1])\n",
    "            i = i-1\n",
    "            \n",
    "    def insert_key_and_ptr(self, mid_key, node_left, node_right, i):\n",
    "        \"\"\"Insert the new_key into the list at position i. \n",
    "           Make sure that its left child is \n",
    "           node_left and right child is node_right. \"\"\"\n",
    "        n = len(self.keys)\n",
    "        assert i >= 0 and i <= n\n",
    "        node_left.set_parent(self, i)\n",
    "        #assert self.keys[i] > mid_key\n",
    "        assert self.pointers[i] == node_left \n",
    "        (new_key, new_child) = (mid_key, node_right)\n",
    "        for j in range(i, n):\n",
    "            (self.keys[j], new_key) = (new_key, self.keys[j])\n",
    "            (self.pointers[j+1], new_child) = (new_child, self.pointers[j+1])\n",
    "            self.pointers[j+1].set_parent(self, j+1) # fix the parent pointer since the child node position changes\n",
    "        self.keys.append(new_key)\n",
    "        self.pointers.append(new_child)\n",
    "        new_child.set_parent(self, n+1)\n",
    "        \n",
    "    def fix_parent_pointers_for_children(self):\n",
    "        for (j, child_node) in enumerate(self.pointers):\n",
    "            child_node.set_parent(self, j)\n",
    "        \n",
    "    def split_node_into_two(self):\n",
    "        \"\"\"Split a node into two along the median. Call only if the node is full\"\"\"\n",
    "        assert len(self.keys) == 2 * self.d + 1 # node is full\n",
    "        n = len(self.keys)\n",
    "        d = self.d\n",
    "        med_key = self.keys[d]\n",
    "        new_keys = list(self.keys[d+1:]) # take all keys past position d + 1\n",
    "        self.keys = list(self.keys[:d])\n",
    "        if self.is_leaf():\n",
    "            new_ptrs = []\n",
    "        else:\n",
    "            new_ptrs = list(self.pointers[d+1:])\n",
    "            self.pointers = list(self.pointers[:d+1])\n",
    "        new_node = self.create_new_instance(new_keys, new_ptrs, False, d) # create a new node \n",
    "        new_node.fix_parent_pointers_for_children() # make sure that for the new node, we fix the parent pointers for children to now point to the new node \n",
    "        return (med_key, self, new_node) ## return a triple of things to insert\n",
    "        \n",
    "    \n",
    "    def handle_full_node(self, debug=True):\n",
    "        \"\"\"Try to lend a key to left or right sibling if they have < 2*self.d keys.\n",
    "           Otherwise, split the node into two.\n",
    "        \n",
    "        Return value:\n",
    "        \n",
    "            If we can successfully lend the key/pointer to either sibling, return None\n",
    "            Otherwise, return whatever result self.split_node_into_two() does.\n",
    "        \"\"\"\n",
    "        # use debug key to print useful messages for your debugging\n",
    "        assert len(self.keys) == 2 * self.d + 1\n",
    "        d = self.d\n",
    "        if self.parent == None : # already at the root\n",
    "            return self.split_node_into_two() # no other option but to split\n",
    "        # unpack the parent pointer\n",
    "        (parent_node, parent_idx) = self.parent\n",
    "        # self is the child of parent_node and equals parent_node.pointers[parent_idx]\n",
    "        ## TODO:\n",
    "        ##   1. Check if I have a right sibling node, fetch right sibling node and find out if it has space.\n",
    "        ##        1.1. If right sibling exists and has space, lend my rightmost key and pointer to the right sibling as its leftmost key and pointer\n",
    "        ##        1.2 Do not forget to call the function fix_parent_pointers since parent pointers will get invalidated.\n",
    "        ##        1.2 Insertion is done, return None\n",
    "        ##   2. Check if I have a left sibling node, fetch left sibling node and find out if it has space\n",
    "        ##        2.1 If left sibling exists and has space, lend my leftmost key and pointer to left sibling as its rightmost key and pointer \n",
    "        ##        3.3 Insertion is done, return None\n",
    "        ##   3. If neither options work, return self.split_node_into_two() -- already implemented see above.\n",
    "        ##  Look at the deletion code for B-Tree given in the notes first since it uses a similar (but not the same) strategy.\n",
    "        \n",
    "        # your code here\n",
    "        right_sibling = None\n",
    "        left_sibling = None\n",
    "\n",
    "        if parent_idx + 1 < len(parent_node.pointers):\n",
    "            right_sibling = parent_node.pointers[parent_idx + 1]\n",
    "        if parent_idx > 0:\n",
    "            left_sibling = parent_node.pointers[parent_idx - 1]\n",
    "\n",
    "        # Check right sibling\n",
    "        if right_sibling and len(right_sibling.keys) < 2 * d:\n",
    "            # Move the rightmost key up to parent and the parent's key down to the right sibling\n",
    "            borrowed_key = self.keys.pop()  # remove rightmost key from current node\n",
    "            up_key = parent_node.keys[parent_idx]  # key in parent to move down\n",
    "            parent_node.keys[parent_idx] = borrowed_key\n",
    "            right_sibling.keys.insert(0, up_key)  # insert at the leftmost position\n",
    "\n",
    "            # If it's not a leaf, move pointers as well\n",
    "            if not self.is_leaf():\n",
    "                borrowed_pointer = self.pointers.pop()\n",
    "                right_sibling.pointers.insert(0, borrowed_pointer)\n",
    "                borrowed_pointer.set_parent(right_sibling, 0)\n",
    "\n",
    "            right_sibling.fix_parent_pointers_for_children()\n",
    "            return None  # Adjustment done, no split needed\n",
    "\n",
    "        # Check left sibling\n",
    "        if left_sibling and len(left_sibling.keys) < 2 * d:\n",
    "            # Move the leftmost key up to parent and the parent's key down to the left sibling\n",
    "            borrowed_key = self.keys.pop(0)  # remove leftmost key from current node\n",
    "            up_key = parent_node.keys[parent_idx - 1]  # key in parent to move down\n",
    "            parent_node.keys[parent_idx - 1] = borrowed_key\n",
    "            left_sibling.keys.append(up_key)  # insert at the rightmost position\n",
    "\n",
    "            # If it's not a leaf, move pointers as well\n",
    "            if not self.is_leaf():\n",
    "                borrowed_pointer = self.pointers.pop(0)\n",
    "                left_sibling.pointers.append(borrowed_pointer)\n",
    "                borrowed_pointer.set_parent(left_sibling, len(left_sibling.pointers) - 1)\n",
    "\n",
    "            left_sibling.fix_parent_pointers_for_children()\n",
    "            return None  # Adjustment done, no split needed\n",
    "\n",
    "        # If neither lending operation is possible, split the node\n",
    "        return self.split_node_into_two()\n"
   ]
  },
  {
   "cell_type": "code",
   "execution_count": 3,
   "id": "508d4cd1",
   "metadata": {
    "ExecuteTime": {
     "end_time": "2024-03-28T17:30:37.987490Z",
     "start_time": "2024-03-28T17:30:37.980871Z"
    },
    "deletable": false,
    "editable": false,
    "nbgrader": {
     "cell_type": "code",
     "checksum": "1d1e373a35f09207691579307b0c482f",
     "grade": false,
     "grade_id": "cell-ecc41fbd55b82786",
     "locked": true,
     "schema_version": 3,
     "solution": false,
     "task": false
    }
   },
   "outputs": [],
   "source": [
    "%matplotlib inline\n",
    "import networkx as nx \n",
    "from matplotlib import pyplot as plt \n",
    "\n",
    "def draw_btree_graph(n):\n",
    "    G = nx.DiGraph()\n",
    "    labels = {}\n",
    "    n.make_networkx_graph(G, 0, -1, labels)\n",
    "    pos = nx.nx_agraph.graphviz_layout(G, prog=\"dot\")  # positions for all nodes\n",
    "    fig, ax = plt.subplots()\n",
    "    fig.set_tight_layout(True)\n",
    "    nx.draw(G, pos=pos, with_labels=True,  node_shape=\"s\", font_size=8, labels=labels, node_color=\"none\",  bbox=dict(facecolor=\"cyan\", edgecolor='black'))\n",
    "    # Set margins for the axes so that nodes aren't clipped\n",
    "    ax = plt.gca()\n",
    "    ax.margins(0.20)\n",
    "    plt.axis(\"off\")\n",
    "    plt.show()"
   ]
  },
  {
   "cell_type": "code",
   "execution_count": 4,
   "id": "5b863a4a",
   "metadata": {
    "ExecuteTime": {
     "end_time": "2024-03-28T17:37:21.504235Z",
     "start_time": "2024-03-28T17:37:21.064847Z"
    },
    "deletable": false,
    "editable": false,
    "nbgrader": {
     "cell_type": "code",
     "checksum": "32399a2289d4bb1d8a9bf2a75fb2a26c",
     "grade": true,
     "grade_id": "cell-c6ca85df6cb8beeb",
     "locked": true,
     "points": 5,
     "schema_version": 3,
     "solution": false,
     "task": false
    }
   },
   "outputs": [
    {
     "name": "stdout",
     "output_type": "stream",
     "text": [
      "Starting tree is : \n"
     ]
    },
    {
     "data": {
      "image/png": "[encoded data removed]",
      "text/plain": [
       "<Figure size 640x480 with 1 Axes>"
      ]
     },
     "metadata": {},
     "output_type": "display_data"
    },
    {
     "name": "stdout",
     "output_type": "stream",
     "text": [
      "Inserting -8\n"
     ]
    },
    {
     "data": {
      "image/png": "[encoded data removed]",
      "text/plain": [
       "<Figure size 640x480 with 1 Axes>"
      ]
     },
     "metadata": {},
     "output_type": "display_data"
    }
   ],
   "source": [
    "# Do not forget to run the cell implementing `draw_btree_graph` function above. \n",
    "# it will be very useful to visualize\n",
    "lst = [1, 5, 2, 4, -4, -3, -7, 12]\n",
    "b = BTreeNodeWithInsert(d=2,is_root=True)\n",
    "for k in lst:\n",
    "    b = b.insert(k)\n",
    "b.rep_ok()\n",
    "print('Starting tree is : ')\n",
    "draw_btree_graph(b)\n",
    "\n",
    "## Note: the insertions above will not trigger any calls to the student's code unless student has modified instructor's code\n",
    "# TEST lending key to right sibling\n",
    "print('Inserting -8')\n",
    "b = b.insert(-8)\n",
    "b.rep_ok()\n",
    "\n",
    "draw_btree_graph(b)\n",
    "\n",
    "assert len(b.keys) == 1, f'root must have just one key. Your root has {len(b.keys)}'\n",
    "assert b.keys[0] == 1, f'root must have a single key : [1]. Your root has {b.keys}'\n",
    "c0 = b.pointers[0]\n",
    "c1 = b.pointers[1]\n",
    "assert c0.is_leaf()\n",
    "assert c1.is_leaf()\n",
    "assert c0.keys == [-8,-7, -4, -3], f'Left child of root must have keys [-8, -7, -4, -3]. Your left child has keys {c0.keys}'\n",
    "assert c1.keys == [2,4,5, 12], f'Right child of root must have keys [2,4,5, 12]. Your right child has keys {c1.keys}'\n",
    "\n"
   ]
  },
  {
   "cell_type": "code",
   "execution_count": 5,
   "id": "d7bcd2f8",
   "metadata": {
    "ExecuteTime": {
     "end_time": "2024-03-28T17:34:06.646788Z",
     "start_time": "2024-03-28T17:34:05.986813Z"
    },
    "deletable": false,
    "editable": false,
    "nbgrader": {
     "cell_type": "code",
     "checksum": "c047abd6cd9a73b525f3a5a0f7951565",
     "grade": true,
     "grade_id": "cell-2ef7b07dec26a4a4",
     "locked": true,
     "points": 5,
     "schema_version": 3,
     "solution": false,
     "task": false
    }
   },
   "outputs": [
    {
     "name": "stdout",
     "output_type": "stream",
     "text": [
      "Starting tree is : \n"
     ]
    },
    {
     "data": {
      "image/png": "[encoded data removed]",
      "text/plain": [
       "<Figure size 640x480 with 1 Axes>"
      ]
     },
     "metadata": {},
     "output_type": "display_data"
    },
    {
     "name": "stdout",
     "output_type": "stream",
     "text": [
      "Inserting 8\n"
     ]
    },
    {
     "data": {
      "image/png": "[encoded data removed]",
      "text/plain": [
       "<Figure size 640x480 with 1 Axes>"
      ]
     },
     "metadata": {},
     "output_type": "display_data"
    },
    {
     "name": "stdout",
     "output_type": "stream",
     "text": [
      "Inserting 6\n"
     ]
    },
    {
     "data": {
      "image/png": "[encoded data removed]",
      "text/plain": [
       "<Figure size 640x480 with 1 Axes>"
      ]
     },
     "metadata": {},
     "output_type": "display_data"
    }
   ],
   "source": [
    "# Do not forget to run the cell implementing `draw_btree_graph` function above. \n",
    "# it will be very useful to visualize\n",
    "lst = [1, 5, 2, 4, -4, 3, 7]\n",
    "b = BTreeNodeWithInsert(d=2,is_root=True)\n",
    "for k in lst:\n",
    "    b = b.insert(k)\n",
    "b.rep_ok()\n",
    "print('Starting tree is : ')\n",
    "draw_btree_graph(b)\n",
    "## Note: the insertions above will not trigger any calls to the student's code unless student has modified instructor's code\n",
    "print('Inserting 8')\n",
    "b = b.insert(8)\n",
    "b.rep_ok()\n",
    "\n",
    "draw_btree_graph(b)\n",
    "# this should call the routine where we lend to left sibling\n",
    "# check the following\n",
    "# btree must have three nodes\n",
    "# root must have a single key [3]\n",
    "# left child of root must have 3 keys [-4, 1, 2]\n",
    "# right child of root must have 4 keys [4, 5, 7, 8]\n",
    "\n",
    "assert len(b.keys) == 1\n",
    "assert b.keys[0] == 3, f'root must have a single key : 3. Your root has {b.keys}'\n",
    "c0 = b.pointers[0]\n",
    "c1 = b.pointers[1]\n",
    "assert c0.is_leaf()\n",
    "assert c1.is_leaf()\n",
    "assert c0.keys == [-4, 1, 2], f'Left child of root must have keys [-4, 1, 2]. Your left child has keys {c0.keys}'\n",
    "assert c1.keys == [4, 5, 7, 8], f'Right child of root must have keys [4, 5, 7, 8]. Your right child has keys {c1.keys}'\n",
    "\n",
    "print('Inserting 6')\n",
    "b = b.insert(6)\n",
    "b.rep_ok()\n",
    "draw_btree_graph(b)\n",
    "\n",
    "\n",
    "assert len(b.keys) == 1\n",
    "assert b.keys[0] == 4, f'root must have a single key : 4. Your root has {b.keys}'\n",
    "c0 = b.pointers[0]\n",
    "c1 = b.pointers[1]\n",
    "assert c0.is_leaf()\n",
    "assert c1.is_leaf()\n",
    "assert c0.keys == [-4, 1, 2, 3], f'Left child of root must have keys [-4, 1, 2,3]. Your left child has keys {c0.keys}'\n",
    "assert c1.keys == [5,6, 7, 8], f'Right child of root must have keys [5, 6, 7, 8]. Your right child has keys {c1.keys}'\n"
   ]
  },
  {
   "cell_type": "code",
   "execution_count": 6,
   "id": "70f75523",
   "metadata": {
    "ExecuteTime": {
     "end_time": "2024-03-28T17:40:00.910764Z",
     "start_time": "2024-03-28T17:40:00.638700Z"
    },
    "deletable": false,
    "editable": false,
    "nbgrader": {
     "cell_type": "code",
     "checksum": "3cc0f5d6cbe2583b692e1e69335720c8",
     "grade": true,
     "grade_id": "cell-e7a5e0f1a718ed33",
     "locked": true,
     "points": 10,
     "schema_version": 3,
     "solution": false,
     "task": false
    }
   },
   "outputs": [
    {
     "data": {
      "image/png": "[encoded data removed]",
      "text/plain": [
       "<Figure size 640x480 with 1 Axes>"
      ]
     },
     "metadata": {},
     "output_type": "display_data"
    },
    {
     "name": "stdout",
     "output_type": "stream",
     "text": [
      "[-25, -24, -15, -5, 1, 2, 3, 4, 5, 9, 12, 14, 15, 18, 19, 21, 22, 31, 80]\n"
     ]
    }
   ],
   "source": [
    "# Do not forget to run the cell implementing `draw_btree_graph` function above. \n",
    "# it will be very useful to visualize\n",
    "lst = [1, 5, 2, 4, 3, 9, 15, -5, 12, 18, 80, -25, 22, 31, -15, 14,  21, -24, 19]\n",
    "b = BTreeNodeWithInsert(d=1,is_root=True)\n",
    "for k in lst:\n",
    "    b = b.insert(k)\n",
    "b.rep_ok()\n",
    "draw_btree_graph(b)\n",
    "print(sorted(lst))\n",
    "for i in lst:\n",
    "    assert b.find_key(i), f'Key {i} not found in the tree though it was inserted'\n",
    "assert len(b.keys) == 2, f'Root must have 2 keys. Yours has {len(b.keys)} keys'"
   ]
  },
  {
   "cell_type": "markdown",
   "id": "ad197384",
   "metadata": {
    "deletable": false,
    "editable": false,
    "nbgrader": {
     "cell_type": "markdown",
     "checksum": "06aca3f6affb07f183f1fd76c89510e6",
     "grade": false,
     "grade_id": "cell-5fb67fc7ecf252de",
     "locked": true,
     "schema_version": 3,
     "solution": false,
     "task": false
    }
   },
   "source": [
    "## Problem 2 \n",
    "\n",
    "The inefficient algorithm for suffix trie that we presented in our notes did not construct suffix links. We noted that suffix links are very important for algorithms such as finding the longest common substrings between two strings.\n",
    "$$\\newcommand\\suff{\\mathsf{suff}}$$\n",
    "Let $s$ be a string of length $n$ and suppose we have found its suffix trie with root $r$. However, the trie has no suffix links.\n",
    "\n",
    "Recall the notion of suffix links:\n",
    " - Every internal node $n$ of the trie has a unique path from the root to $n$ which is labeled with a non-empty substring of $s$.\n",
    " - Suppose an internal node $n$'s path from root corresponds to a substring of the form $c \\alpha$ where $c$ is a character and $\\alpha$ is an arbitrary length substring, then the suffix node $\\suff(n)$ is either the root or an internal node whose unique path from root is labeled by $\\alpha$.\n",
    "\n",
    "A suffix link is a link from each internal node (and root) to its suffix node $\\suff(n)$.  For convenience, $\\suff(r) = r$.\n",
    "\n",
    "In this problem, we ask you to find an efficient algorithm for constructing suffix links in a suffix trie without them. The idea is to construct suffix links for internal nodes in a depthwise fashion. \n",
    " - The suffix link for the root is itself.\n",
    " - Suppose for a node $n$, the suffix link for its parent node $p$ is known to be $\\suff(p)$, we would like you to work out the suffix link for $n$ knowing $\\suff(p)$ and the sub-string along the edge $n \\rightarrow p$.\n",
    " \n",
    "In this manner, we can compute a depth first traversal of the tree and having computed the suffix link for the parent of a node, we can figure out the suffix link for the node itself.\n",
    "\n",
    "First, we will ask you to work out the algorithm step by step and next, we will implement it.\n",
    "\n",
    "### Case-1: Parent is the root\n",
    "\n",
    "Suppose the node $n$'s parent $p$ is the root node of the trie ($p =r$), and the edge \n",
    "$r \\rightarrow n$ corresponds to the substring: $s[lo], \\ldots, s[hi]$. \n",
    "\n",
    "__(A)__ Write down the substring that would correspond to the unique path from the root  to the suffix node of $n$.\n",
    "\n",
    "\n",
    " "
   ]
  },
  {
   "cell_type": "markdown",
   "id": "f10907ad",
   "metadata": {
    "deletable": false,
    "nbgrader": {
     "cell_type": "markdown",
     "checksum": "4a521a545101ac649dac94d96c222dca",
     "grade": true,
     "grade_id": "cell-631cc16141db0d27",
     "locked": false,
     "points": 0,
     "schema_version": 3,
     "solution": true,
     "task": false
    }
   },
   "source": [
    "### Case-1: Parent is the root\n",
    "\n",
    "Let's consider the situation where the parent \\( p \\) of node \\( n \\) is the root node \\( r \\) of the trie, and the edge \\( r \\rightarrow n \\) corresponds to the substring \\( s[lo:hi+1] \\).\n",
    "\n",
    "For simplicity, let's denote this substring as \\( \\alpha = s[lo:hi+1] \\).\n",
    "\n",
    "The goal is to find the suffix link for node \\( n \\), which is a link to another node whose path from the root corresponds to the substring \\( \\alpha \\) without the first character, i.e., the substring \\( \\alpha' = s[lo+1:hi+1] \\).\n",
    "\n",
    "In other words, the suffix link of node \\( n \\) should point to a node (or the root) that has a path corresponding to the substring starting from \\( s[lo+1] \\) to \\( s[hi] \\).\n",
    "\n",
    "Given that the parent \\( p \\) is the root \\( r \\):\n",
    "\n",
    "- The suffix link for the root \\( \\suff(r) = r \\).\n",
    "\n",
    "- For a node \\( n \\) whose parent is the root and edge corresponds to the substring \\( s[lo:hi+1] \\), the unique path from the root to the suffix node of \\( n \\) will correspond to the substring \\( s[lo+1:hi+1] \\).\n",
    "\n",
    "So, in this case:\n",
    "\n",
    "**The substring that would correspond to the unique path from the root to the suffix node of \\( n \\) is \\( s[lo+1:hi+1] \\).**\n",
    "\n",
    "To summarize:\n",
    "\n",
    "- If node \\( n \\) has a parent \\( p \\) which is the root, and the edge \\( r \\rightarrow n \\) corresponds to the substring \\( s[lo:hi+1] \\), then the suffix link for node \\( n \\) should point to a node whose path from the root corresponds to the substring \\( s[lo+1:hi+1] \\)."
   ]
  },
  {
   "cell_type": "markdown",
   "id": "f229a92a",
   "metadata": {
    "deletable": false,
    "editable": false,
    "nbgrader": {
     "cell_type": "markdown",
     "checksum": "1835fa9f724c1f53094dad9571c78784",
     "grade": false,
     "grade_id": "cell-e2153ed472237a5a",
     "locked": true,
     "schema_version": 3,
     "solution": false,
     "task": false
    }
   },
   "source": [
    "### Case -2 : Parent is not the root.\n",
    "\n",
    "Suppose $n$'s parent $p$ is an internal node (not the root) and the edge \n",
    "$p \\rightarrow n$ corresponds to the substring: $s[lo], \\ldots, s[hi]$. \n",
    "\n",
    "Let $s(p)$ be the suffix link for the parent node. Let $s(n)$ be the node that would correspond to the target of the suffix link from $n$ if it existed.\n",
    "\n",
    "__(B)__ What would be the substring that would lead us from $s(p)$ to $s(n)$? \n"
   ]
  },
  {
   "cell_type": "markdown",
   "id": "f5c71101",
   "metadata": {
    "deletable": false,
    "nbgrader": {
     "cell_type": "markdown",
     "checksum": "e7dff60226ec79785f91ec70698ca4ee",
     "grade": true,
     "grade_id": "cell-53569b828c7fc9b6",
     "locked": false,
     "points": 0,
     "schema_version": 3,
     "solution": true,
     "task": false
    }
   },
   "source": [
    "The substring that would lead us from \\( s(p) \\) to \\( s(n) \\) corresponds to the substring \\( s[lo+1], \\ldots, s[hi] \\).\n",
    "\n",
    "Here's the reasoning:\n",
    "\n",
    "- The edge \\( p \\rightarrow n \\) corresponds to the substring \\( s[lo], \\ldots, s[hi] \\).\n",
    "- \\( s(p) \\) is the suffix link for the parent node \\( p \\), which means it points to the node representing the longest suffix of \\( s[lo], \\ldots, s[hi] \\) that is not the node itself.\n",
    "- \\( s(n) \\) would be the node that would correspond to the target of the suffix link from \\( n \\) if it existed.\n",
    "\n",
    "Since \\( s(p) \\) is a suffix link, it points to the node representing the longest suffix of \\( s[lo], \\ldots, s[hi] \\) that is not \\( p \\) itself. Therefore, \\( s(p) \\) represents the substring that excludes the first character of \\( s[lo], \\ldots, s[hi] \\), which is \\( s[lo+1], \\ldots, s[hi] \\).\n",
    "\n",
    "Thus, the substring that would lead us from \\( s(p) \\) to \\( s(n) \\) is \\( s[lo+1], \\ldots, s[hi] \\)."
   ]
  },
  {
   "cell_type": "markdown",
   "id": "d34ef7f9",
   "metadata": {
    "deletable": false,
    "editable": false,
    "nbgrader": {
     "cell_type": "markdown",
     "checksum": "74fe806e9cc6f0b5ee8fdf5f29949de0",
     "grade": false,
     "grade_id": "cell-a582a9ca53e6aa9e",
     "locked": true,
     "schema_version": 3,
     "solution": false,
     "task": false
    }
   },
   "source": [
    "__(C)__ We will use the insights above to  down all the missing suffix links for the given trie.\n",
    "\n",
    "<img src=\"attachment:assignment4-fig1.png\" width=\"50%\"></img>\n",
    "\n",
    "Knowing that the root is suffix linked to itself. Consider node $n8$. It's parent is the root $n0$ and the edge from $n0 \\rightarrow n8$ has $lo = hi = 1$ the \"A\" character in \"BANANA$\".\n",
    "\n",
    "What should the suffix link for $n8$ be?"
   ]
  },
  {
   "cell_type": "markdown",
   "id": "767de108",
   "metadata": {
    "deletable": false,
    "nbgrader": {
     "cell_type": "markdown",
     "checksum": "dac88b4f905d59f2115150c6e0559942",
     "grade": true,
     "grade_id": "cell-c900721755867273",
     "locked": false,
     "points": 0,
     "schema_version": 3,
     "solution": true,
     "task": false
    }
   },
   "source": [
    "To determine the suffix link for \\( n8 \\) in the given trie:\n",
    "\n",
    "1. **Understand the edge \\( n0 \\rightarrow n8 \\)**:\n",
    "   - The edge corresponds to the substring \\( s[lo], \\ldots, s[hi] \\) where \\( lo = hi = 1 \\). In the string \"BANANA$\", this corresponds to the substring \"A\".\n",
    "\n",
    "2. **Suffix link definition**:\n",
    "   - The suffix link for a node \\( n \\) points to another node \\( s(n) \\) which represents the longest suffix of the substring \\( s[lo], \\ldots, s[hi] \\) that is not \\( n \\) itself.\n",
    "\n",
    "3. **Determining \\( s(n8) \\)**:\n",
    "   - Since \\( n8 \\)'s parent is \\( n0 \\) and the edge \\( n0 \\rightarrow n8 \\) corresponds to the substring \"A\", \\( s(n8) \\) should represent the node that would correspond to the longest suffix of \"A\" in the trie.\n",
    "\n",
    "4. **Traversal to find \\( s(n8) \\)**:\n",
    "   - Start from the parent of \\( n8 \\), which is \\( n0 \\).\n",
    "   - Follow the suffix links until you find a node that has an edge corresponding to the substring \"A\".\n",
    "   - In this case, \\( s(n8) \\) should correspond to \\( n3 \\), because \\( n3 \\) has an edge labeled \"A\" which matches the substring \"A\" that leads to \\( n8 \\).\n",
    "\n",
    "Therefore, the suffix link for \\( n8 \\) should be \\( n3 \\)."
   ]
  },
  {
   "cell_type": "markdown",
   "id": "d5c832d8",
   "metadata": {
    "deletable": false,
    "editable": false,
    "nbgrader": {
     "cell_type": "markdown",
     "checksum": "27e8fdbb27c8ac336d86abdae132aa24",
     "grade": false,
     "grade_id": "cell-ef71497cc29f53e7",
     "locked": true,
     "schema_version": 3,
     "solution": false,
     "task": false
    }
   },
   "source": [
    "__(D)__ Compute the target node for the suffix link for $n4$, given your answer from the previous step."
   ]
  },
  {
   "cell_type": "markdown",
   "id": "c14a92a0",
   "metadata": {
    "deletable": false,
    "nbgrader": {
     "cell_type": "markdown",
     "checksum": "3dbb64c776e0bbc9a1926a31c7253117",
     "grade": true,
     "grade_id": "cell-90163c10ea97a9ce",
     "locked": false,
     "points": 0,
     "schema_version": 3,
     "solution": true,
     "task": false
    }
   },
   "source": [
    "Based on the previous steps and the structure of the trie:\n",
    "\n",
    "1. **Suffix link for \\( n4 \\)**:\n",
    "   - \\( n4 \\)'s parent is \\( n3 \\).\n",
    "   - The edge \\( n3 \\rightarrow n4 \\) corresponds to the substring \"NA\" (assuming \\( lo = 2 \\) and \\( hi = 3 \\) based on the given string \"BANANA$\").\n",
    "\n",
    "2. **Target node \\( s(n4) \\)**:\n",
    "   - \\( s(n4) \\) should correspond to the node that represents the longest suffix of \"NA\" that is not \\( n4 \\) itself.\n",
    "\n",
    "3. **Finding \\( s(n4) \\)**:\n",
    "   - Start from the suffix link of \\( n3 \\), which we determined earlier to be \\( n6 \\).\n",
    "   - Follow the edges in the trie to find the node that corresponds to the longest suffix of \"NA\".\n",
    "   - From \\( n6 \\), follow the edge labeled \"NA\". This leads directly to \\( n4 \\) itself.\n",
    "\n",
    "Therefore, \\( s(n4) \\), the target node for the suffix link from \\( n4 \\), is \\( n4 \\) itself, because there are no further nodes that represent longer suffixes of \"NA\" in this trie structure."
   ]
  },
  {
   "cell_type": "markdown",
   "id": "a8e9f7e5",
   "metadata": {
    "deletable": false,
    "editable": false,
    "nbgrader": {
     "cell_type": "markdown",
     "checksum": "4c23ef2307c0dec8c4bed8b830ae4450",
     "grade": false,
     "grade_id": "cell-c309ca77dd44a7c7",
     "locked": true,
     "schema_version": 3,
     "solution": false,
     "task": false
    }
   },
   "source": [
    "We have given you the data structure for suffix trie and the code for constructing it in $O(m^2)$ time but without suffix links. Please ensure that the cell below is run before proceeding.\n",
    "\n",
    "This includes classes `SuffixTrieNode`, `SuffixTrieEdge`, `SuffixTrieLeaf` and `TrieAddress` directly taken from the notes.\n",
    "\n",
    "Finally, we have also included the function `make_suffix_trie` that given a string $s$ constructs a suffix trie for it in $O(|s|^2)$."
   ]
  },
  {
   "cell_type": "code",
   "execution_count": 1,
   "id": "562ceead",
   "metadata": {
    "ExecuteTime": {
     "end_time": "2024-03-28T19:25:41.233646Z",
     "start_time": "2024-03-28T19:25:41.103019Z"
    },
    "deletable": false,
    "editable": false,
    "nbgrader": {
     "cell_type": "code",
     "checksum": "0d10248fc3e94fded45c7515ac3d915c",
     "grade": false,
     "grade_id": "cell-42c3bee527e46a6c",
     "locked": true,
     "schema_version": 3,
     "solution": false,
     "task": false
    }
   },
   "outputs": [],
   "source": [
    "class SuffixTrieNode:\n",
    "    \n",
    "    def __init__(self, node_id, orig_str):\n",
    "        self.orig_str = orig_str # a reference to the entire string\n",
    "        self.outgoing_edges = {} # dictionary from chars to edges\n",
    "        self.suffix_link = None  # suffix link : initially set to None\n",
    "        self.id = node_id # Note: id == 0 is taken to be root for now.\n",
    "        self.depth = 0 # automatically set the depth when node's parent is set\n",
    "        self.parent = None # parent pointer\n",
    "        \n",
    "    def is_root(self):\n",
    "        return self.id == 0\n",
    "        \n",
    "    def get_edge(self, char):\n",
    "        if char in self.outgoing_edges:\n",
    "            return self.outgoing_edges[char]\n",
    "        else:\n",
    "            return None\n",
    "        \n",
    "    def is_leaf(self):\n",
    "        return False\n",
    "    \n",
    "    def add_suffix_link(self, node):\n",
    "        self.suffix_link = node\n",
    "        \n",
    "    def add_outgoing_edge(self, new_edge):\n",
    "        edge_init_char = new_edge.get_char_at(0)\n",
    "        # ensure that an edge with the initial character does not exist\n",
    "        assert edge_init_char not in self.outgoing_edges, f\"Char {edge_init_char} already has an outgoing edge for node id:{self.id}\"\n",
    "        #ensure that the new_edge src matches self\n",
    "        assert new_edge.src.id == self.id, f\"Src node in outgoing edge id:{new_edge.src.id} does not match node id {self.id}\"\n",
    "        # add the new edge to the dictionary with the initial char as key\n",
    "        self.outgoing_edges[edge_init_char] = new_edge\n",
    "        # add a parent pointer from destination to the src of the new edge\n",
    "        new_edge.dest.parent = new_edge.src # set the parent pointer of the new edges dest\n",
    "        if not new_edge.is_leaf_edge(): # set the depth of the destination node for the edge\n",
    "            new_edge.dest.depth = self.depth + new_edge.length()\n",
    "       \n",
    "        \n",
    "    def find_edge_corresponding_to_child(self, child_node):\n",
    "        # search among outgoing edges to see if there is one whose destination is the child node\n",
    "        for (_, edge) in self.outgoing_edges.items():\n",
    "            if edge.dest.id == child_node.id:\n",
    "                return edge\n",
    "        return None # no such edge found\n",
    "    \n",
    "        \n",
    "    \n",
    "class SuffixTrieLeaf:\n",
    "    def __init__(self, node_id, orig_str, suffix_start_pos):\n",
    "        self.orig_str = orig_str # the original string\n",
    "        self.id  = node_id # the id of this node\n",
    "        assert 0 <= suffix_start_pos < len(orig_str) \n",
    "        self.suffix_start_pos = suffix_start_pos # the starting pos for the suffix\n",
    "        self.parent = None # parent pointer initially set to None\n",
    "        \n",
    "    def is_leaf(self):\n",
    "        return True\n",
    "    \n",
    "\n",
    "class SuffixTrieEdge:\n",
    "    \n",
    "    def __init__(self, orig_str, src_node, dest_node, lo, hi):\n",
    "        assert 0 <= lo < len(orig_str) # lo must be a valid position in the original string\n",
    "        # if destination node is a leaf then hi == -1 else hi != -1\n",
    "        if dest_node.is_leaf():\n",
    "            assert hi == -1 \n",
    "        else:\n",
    "            assert lo <= hi <= len(orig_str)\n",
    "        assert not src_node.is_leaf() # src node cannot be a leaf.\n",
    "        # edge represents str[lo]...str[hi] inclusive if hi != -1\n",
    "        # or set[lo] ... str[end]\n",
    "        self.orig_str = orig_str # set the orig_str field\n",
    "        self.lo = lo # set lo/hi\n",
    "        self.hi = hi \n",
    "        self.src = src_node # set src/dest\n",
    "        self.dest = dest_node\n",
    "        \n",
    "    def is_leaf_edge(self):\n",
    "        return self.hi == -1\n",
    "    \n",
    "    def length(self):\n",
    "        if self.hi == -1:\n",
    "            return -1\n",
    "        else:\n",
    "            return self.hi - self.lo + 1\n",
    "    \n",
    "    def get_char_at(self, offs):\n",
    "        assert self.hi == -1 or offs + self.lo <= self.hi\n",
    "        return self.orig_str[self.lo + offs]\n",
    "    \n",
    "    \n",
    "    def get_sub_str(self, end=-1):\n",
    "        if self.hi == -1:\n",
    "            return self.orig_str[self.lo:end] if (end != -1) else self.orig_str[self.lo:]\n",
    "        \n",
    "        else:\n",
    "            return self.orig_str[self.lo:self.hi+1]\n",
    "        \n",
    "        \n",
    "    def reset_hi_and_dest(self, new_dest, new_hi):\n",
    "        assert new_hi >= self.lo, f\"Cannot replace hi value by {new_hi}\"\n",
    "        assert not new_dest.is_leaf(), \"Cannot replace destination by a leaf node\"\n",
    "        self.hi = new_hi\n",
    "        new_dest.parent = self.src\n",
    "        new_dest.depth = self.src.depth + self.length()\n",
    "        self.dest = new_dest\n",
    "\n",
    "class TrieAddress:\n",
    "    \n",
    "    def __init__(self,  node, edge=None, offs=0):\n",
    "        assert 0 <= offs \n",
    "        self.node = node # set the node\n",
    "        self.edge = edge # set the edge\n",
    "        self.offs = offs # set the offset\n",
    "        if self.edge != None:\n",
    "            assert self.offs > 0\n",
    "        else:\n",
    "            assert self.offs == 0\n",
    "    \n",
    "    def traverse_next(self, c):\n",
    "        \"\"\"Function traverse_next: find the next address (if one exists) that \n",
    "           is obtained when we encounter character c. Return the new address if \n",
    "           one exists or else return None.\"\"\"\n",
    "        if self.edge == None: # Is the address pointing to an internal node?\n",
    "            # Yes: address is just a pointer to an internal node/root.\n",
    "            # check if the node has an outgoing edge corresponding to 'c'\n",
    "            new_edge = self.node.get_edge(c) # try to get a new edge corresponding to character `c`.\n",
    "            if new_edge == None:\n",
    "                return None # No such edge, then return None\n",
    "            else: # new_edge != None\n",
    "                assert new_edge.get_char_at(0) == c # got an edge. Check that we got the right one.\n",
    "                if new_edge.is_leaf_edge() or new_edge.length() > 1: # if new edge is a leaf edge, or its length is more than 2\n",
    "                    return TrieAddress( self.node, new_edge,  1 ) # return an address with an offset of 1 into the new edge\n",
    "                else:\n",
    "                    new_node = new_edge.dest # new edge is not a leaf and must have length exactly one\n",
    "                    return TrieAddress( new_node, None, 0) # the address must therefore be the destination.\n",
    "        else: # self.edge != None\n",
    "            # No: address is a pointer self.offs past self.node along self.edge\n",
    "            edge = self.edge \n",
    "            if edge.lo + self.offs < len(edge.orig_str) and edge.get_char_at(self.offs) == c:# if the next char is a `c`\n",
    "                if edge.is_leaf_edge() or self.offs < edge.length() -1 : # is the edge a leaf edge or do we have one more char in the edge?\n",
    "                    return TrieAddress(self.node, self.edge, self.offs+1) # return a new address that is just one further offset along same edge\n",
    "                else:\n",
    "                    dest_node = edge.dest # we reaches the destination node\n",
    "                    return TrieAddress( dest_node, None, 0) # return the new address\n",
    "            else: # next char is not a `c`\n",
    "                return None # no next address\n",
    "            \n",
    "    def compute_suffix(self, debug=False):\n",
    "        # to compute a suffix, follow the suffix link from the source node\n",
    "        #                      to get to a new source node.\n",
    "        #                     next, fetch the appropriate edge \n",
    "        #                     finally, move offset distance into the edge.\n",
    "        node = self.node # unpack\n",
    "        edge = self.edge \n",
    "        offs = self.offs \n",
    "        if node.id == 0 and offs <= 1: # If we are at the very root, the suffix is the same.\n",
    "                return TrieAddress(node, None, 0) # let's keep the suffix the same\n",
    "        if node.id == 0: # if we are the the root, the suffix node is the root\n",
    "            s_node = node\n",
    "        else:\n",
    "            s_node = node.suffix_link # otherwise, follow the suffix link.\n",
    "            assert s_node != None # assert that the suffix link should exist\n",
    "        \n",
    "        if edge == None: # if the address points right to a node, \n",
    "            return TrieAddress(s_node, None, offs) # the suffix address points right to the suffix node.\n",
    "        \n",
    "        if node.id == 0: # Are we are at the root.\n",
    "            c = edge.get_char_at(1) # compute the char c at position 1 of the edge.\n",
    "            s_edge = node.get_edge(c) # get the outgoing edge for that character c\n",
    "            assert s_edge != None, f\"No edge for char {c} at node {node.id}\" # this edge should exist\n",
    "            offs = offs - 1 # suffix is offs -1 length along s_edge\n",
    "            fwd = 1 # set the fwd pointer to 1 to indicate that we have moved one step fwd\n",
    "            if debug:\n",
    "                print(f\"Debug: Looking for {offs} past {s_edge.src.id, s_edge.dest.id}\")\n",
    "        else:\n",
    "            c = edge.get_char_at(0) # get the initial char at the edge\n",
    "            s_edge = s_node.get_edge(c) # get the corresponding edge at the suffix link\n",
    "            fwd = 0\n",
    "            assert s_edge != None, f\"No edge for char {c} at node {s_node.id}\"\n",
    "            if debug:\n",
    "                print(f\"Debug: Looking for {offs} past {s_edge.src.id, s_edge.dest.id}\")\n",
    "\n",
    "        assert s_edge != None # assert that the edge should exist\n",
    "         # Now we have to find the location that is offs steps away from s_node \n",
    "         # along s_edge. \n",
    "        if s_edge.is_leaf_edge() or offs < s_edge.length(): \n",
    "            # if the edge is leaf or the offset is less than the length\n",
    "            return TrieAddress(s_node, s_edge, offs) # we found the required suffix address along s_edge itself\n",
    "        else:\n",
    "            new_offs = offs # otherwise, move offset distance away from edge\n",
    "            # we may have to move across multiple nodes/edges to find the location \n",
    "            # that is offs away from node s_node.\n",
    "            while (not s_edge.is_leaf_edge()) and new_offs >= s_edge.length():\n",
    "                new_offs = new_offs - s_edge.length() # move forward edge length from s\n",
    "                fwd = fwd + s_edge.length()\n",
    "                s_node = s_edge.dest # get the destination node\n",
    "                if new_offs > 0:\n",
    "                    c = edge.get_char_at(fwd) # get the edge corresponding to the character\n",
    "                    s_edge = s_node.get_edge(c)\n",
    "                    assert s_edge != None\n",
    "                else:\n",
    "                    break\n",
    "            if new_offs > 0:\n",
    "                return TrieAddress(s_node, s_edge, new_offs)\n",
    "            else:\n",
    "                return TrieAddress(s_node, None, 0)\n",
    "\n",
    "    def create_new_edge_at(self, orig_str, i, node_id):\n",
    "        \"\"\"Create a new leaf edge in the suffix trie by \n",
    "           inserting the char at orig_str[i]. \"\"\"\n",
    "        assert i >= 0 and i < len(orig_str) # i better be a valid index into orig_str\n",
    "        c = orig_str[i]  # fetch the char\n",
    "        node = self.node # unpack \n",
    "        edge = self.edge \n",
    "        offs = self.offs\n",
    "        if edge == None: # if the current address points to an internal node\n",
    "            assert offs == 0\n",
    "            assert node.get_edge(orig_str[i]) == None, f\"Node {node.id} already has outgoing edge for {orig_str[i]}\"\n",
    "            new_leaf = SuffixTrieLeaf(node_id, orig_str, i - node.depth) # create a new leaf node to be the destination\n",
    "            new_edge = SuffixTrieEdge(orig_str, node, new_leaf, i, -1) # create a leaf edge with \n",
    "            node.add_outgoing_edge(new_edge) # add it to the node pointed by the current address\n",
    "            return (node, new_leaf, False) # return the node at which insertion happend, the new leaf and whether or not a new internal node was created\n",
    "        else:\n",
    "            assert edge.get_char_at(offs) != c, f'{edge.get_char_at(offs)}, {c}' # if the next char is c, we should not be calling this function\n",
    "            # split edge into two\n",
    "            node1 = SuffixTrieNode(node_id, orig_str) # create a new node       \n",
    "            src_node = edge.src \n",
    "            dest_node = edge.dest \n",
    "            lo = edge.lo\n",
    "            hi = edge.hi\n",
    "            # modify the current edge to make node1 its destination and the \n",
    "            # value of hi to be lo. +offs -1 \n",
    "            edge.reset_hi_and_dest(node1, lo+offs-1)\n",
    "            # create two new edges \n",
    "            # first one consists of the remaining part of edge\n",
    "            new_edge_1 = SuffixTrieEdge(orig_str, node1, dest_node, lo+offs, hi)\n",
    "            node1.add_outgoing_edge(new_edge_1)\n",
    "            suffix_start_pos = i - node1.depth\n",
    "            # create a new leaf node \n",
    "            new_leaf = SuffixTrieLeaf(node_id+1, orig_str, suffix_start_pos)\n",
    "            # create a new leaf edge \n",
    "            new_edge_2 = SuffixTrieEdge(orig_str, node1, new_leaf, i, -1)\n",
    "            node1.add_outgoing_edge(new_edge_2)\n",
    "            return (node1, new_leaf, True) # return newly created internal node and new leaf, True indicates that the internal node we are returning is newly created\n",
    "            \n",
    "    def is_at_root(self):\n",
    "        return self.node.id == 0 and self.offs == 0\n",
    "            \n",
    "    def compute_depth(self):\n",
    "        if self.edge == None:\n",
    "            return self.node.depth\n",
    "        else:\n",
    "            return self.node.depth + self.offs \n",
    "    \n",
    "    def __str__(self):\n",
    "        edge = self.edge\n",
    "        return f'{self.node.id}, {(edge.src.id, edge.dest.id) if edge != None else None}, {self.offs}'\n",
    "          \n",
    "    \n",
    "import networkx as nx\n",
    "from matplotlib import pyplot as plt\n",
    "\n",
    "def draw_networkx_graph(root, end=-1, highlight_addr=None, filename=None):\n",
    "    worklist = [root]\n",
    "    node_labels={}\n",
    "    edge_str_label = {}\n",
    "    suffix_links = [] \n",
    "    leaf_nodes = []\n",
    "    internal_nodes = []\n",
    "    G = nx.DiGraph()\n",
    "    while len(worklist) > 0:\n",
    "        node = worklist.pop()\n",
    "        G.add_node(node.id)\n",
    "        if node.is_leaf():\n",
    "            leaf_nodes.append(node.id)\n",
    "            node_labels[node.id]= \"l\"+str(node.id) + \"s\"+str(node.suffix_start_pos)\n",
    "            continue\n",
    "        else:\n",
    "            internal_nodes.append(node.id)\n",
    "            node_labels[node.id]= \"n\"+str(node.id)\n",
    "        if node.suffix_link != None:\n",
    "            suffix_links.append((node.id, node.suffix_link.id))\n",
    "        for (c, edge) in node.outgoing_edges.items():\n",
    "            (u, v) = (edge.src.id, edge.dest.id)\n",
    "            G.add_edge(u, v)\n",
    "            s = edge.get_sub_str(end)\n",
    "            edge_str_label[(u,v)] = s\n",
    "            worklist.append(edge.dest)            \n",
    "    pos = nx.nx_agraph.graphviz_layout(G, prog=\"dot\")  # positions for all nodes\n",
    "    fig, ax = plt.subplots()\n",
    "    fig.set_tight_layout(True)\n",
    "    nx.draw_networkx_nodes(G, pos=pos, nodelist=internal_nodes,  node_shape=\"s\", node_color=\"lightcyan\")\n",
    "    nx.draw_networkx_nodes(G, pos=pos, nodelist=leaf_nodes, node_shape=\"s\", node_color=\"lightgreen\")\n",
    "    nx.draw_networkx_edges(G, pos=pos,width=2.0)\n",
    "    nx.draw_networkx_labels(G, pos, labels=node_labels, font_size=7, font_color='k')\n",
    "    #nx.draw_networkx_edge_labels(G, pos,edge_labels=edge_char_label, font_color='red')\n",
    "    nx.draw_networkx_edge_labels(G, pos,edge_labels=edge_str_label, font_color='blue', rotate=False)\n",
    "    nx.draw_networkx_edges(G, pos, width=0.5, edgelist=suffix_links, style='dashed', edge_color='r', connectionstyle='arc3,rad=0.2')\n",
    "    if highlight_addr != None:\n",
    "        node = highlight_addr.node \n",
    "        edge = highlight_addr.edge\n",
    "        offs = highlight_addr.offs\n",
    "        nx.draw_networkx_nodes(G, pos=pos, nodelist=[node.id],  node_shape=\"s\", node_color=\"yellow\")\n",
    "\n",
    "        if edge != None:\n",
    "            nx.draw_networkx_edges(G, edgelist=[(edge.src.id, edge.dest.id)], edge_color='b', width=2, pos=pos)\n",
    "            c = edge.get_char_at(0)\n",
    "            txt = f'{offs}'\n",
    "            x0,y0 = pos[node.id]\n",
    "            x1,y1 = pos[edge.dest.id]\n",
    "            (x, y) = ((3*x0+x1)/4, (3*y0+y1)/4)\n",
    "            props = dict(boxstyle='round', facecolor='wheat', alpha=0.5)\n",
    "            plt.text(x-0.5, y+0.5, s=txt,  fontsize=8, bbox=props,horizontalalignment='center')\n",
    "        \n",
    "    ax = plt.gca()\n",
    "    ax.margins(0.20)\n",
    "    plt.axis(\"off\")\n",
    "    if filename != None:\n",
    "        plt.savefig(filename, bbox_inches='tight')\n",
    "    plt.show()\n",
    "    \n",
    "    \n",
    "def make_suffix_trie_simple(orig_str): \n",
    "    # Insert the suffix starting from orig_str position j into the trie.\n",
    "    root = SuffixTrieNode(0, orig_str)\n",
    "    n = len(orig_str)\n",
    "    node_list = [root]\n",
    "    for j in range(n):\n",
    "        addr = TrieAddress(root) # initialize the address to 0\n",
    "        for i in range(j, n):\n",
    "            # try traversing one step more from the current address with char orig_str[i]\n",
    "            addr1 = addr.traverse_next(orig_str[i])\n",
    "            if addr1 == None:\n",
    "                # here is where we need to insert.\n",
    "                (next_node, leaf_node, newly_created) = addr.create_new_edge_at(orig_str, i, len(node_list) )\n",
    "                node_list.append(leaf_node)\n",
    "                if newly_created:\n",
    "                    node_list.append(next_node)\n",
    "                break \n",
    "            else:\n",
    "                addr = addr1\n",
    "    return root \n",
    "\n",
    "def check_suffix_links(root):\n",
    "    worklist = [root]\n",
    "    all_nodes = [root]\n",
    "    d = {0:\"\"}\n",
    "    while len(worklist) > 0:\n",
    "        n = worklist.pop()\n",
    "        str_n = d[n.id]\n",
    "        for (_, e) in n.outgoing_edges.items():\n",
    "            if not e.is_leaf_edge():\n",
    "                str_e = str_n + e.orig_str[e.lo:e.hi+1]\n",
    "                d[e.dest.id] = str_e\n",
    "                worklist.append(e.dest)\n",
    "                all_nodes.append(e.dest)\n",
    "    for n in all_nodes:\n",
    "        assert n.suffix_link != None, f'node {n.id} has no suffix link'\n",
    "        s_n = n.suffix_link\n",
    "        assert n.id in d\n",
    "        assert s_n.id in d\n",
    "        s1 = d[n.id]\n",
    "        s2 = d[s_n.id]\n",
    "        assert s1[1:] == s2, f'node {n.id} has string {s1} but its  suffix node  has string {s2}'\n",
    "    print(\"Suffix links are all valid!\")\n",
    "        "
   ]
  },
  {
   "cell_type": "markdown",
   "id": "d0a5d215",
   "metadata": {
    "deletable": false,
    "editable": false,
    "nbgrader": {
     "cell_type": "markdown",
     "checksum": "5f99a3c8fc59226b0a81772eb17cc508",
     "grade": false,
     "grade_id": "cell-02d7faebd145ed89",
     "locked": true,
     "schema_version": 3,
     "solution": false,
     "task": false
    }
   },
   "source": [
    "Complete the implementation of the function `add_all_suffix_links` that given a suffix trie without  suffix links, walks the trie from root down to leaves and computes suffix nodes for a child node given that of a parent node. In particular, we would like you to complete the `get_suffix_link_for_dest_node` function below as speficied."
   ]
  },
  {
   "cell_type": "code",
   "execution_count": 6,
   "id": "7e68979d",
   "metadata": {
    "ExecuteTime": {
     "end_time": "2024-03-28T19:25:42.452656Z",
     "start_time": "2024-03-28T19:25:42.444708Z"
    },
    "deletable": false,
    "nbgrader": {
     "cell_type": "code",
     "checksum": "220e615284a94a0f2acbe58336480aec",
     "grade": false,
     "grade_id": "cell-9a87419b42704049",
     "locked": false,
     "schema_version": 3,
     "solution": true,
     "task": false
    }
   },
   "outputs": [],
   "source": [
    "def get_suffix_link_for_dest_node(edge, root):\n",
    "    p = edge.src\n",
    "    n = edge.dest\n",
    "    assert p.suffix_link is not None, f\"parent {p.id} has no suffix link but asking for the suffix link of a child\"\n",
    "    assert not edge.is_leaf_edge()\n",
    "    \n",
    "    orig_str = edge.orig_str\n",
    "    lo = edge.lo\n",
    "    hi = edge.hi\n",
    "\n",
    "    if p.is_root():\n",
    "        # If parent is the root, suffix link of n should also point to root if there's no further matching\n",
    "        return root\n",
    "\n",
    "    suffix_parent = p.suffix_link\n",
    "    offset = lo + 1\n",
    "\n",
    "    while True:\n",
    "        suffix_edge = suffix_parent.get_edge(orig_str[offset])\n",
    "        if suffix_edge is None:\n",
    "            return root\n",
    "        suffix_length = suffix_edge.length()\n",
    "        if suffix_length > hi - lo:\n",
    "            break\n",
    "        suffix_parent = suffix_edge.dest\n",
    "        offset += suffix_length\n",
    "\n",
    "    return suffix_edge.dest\n",
    "\n",
    "def add_all_suffix_links(root, debug=True):\n",
    "    root.add_suffix_link(root)  # root must be suffix linked to itself.\n",
    "    worklist = []  # a list of edges wherein parent has a suffix link but child does not\n",
    "    \n",
    "    for (_, edge) in root.outgoing_edges.items():\n",
    "        if not edge.is_leaf_edge():\n",
    "            worklist.append(edge)  # add the edge from root to an internal non-leaf node to the worklist.\n",
    "    \n",
    "    while len(worklist) >= 1:\n",
    "        edge = worklist.pop()\n",
    "        assert not edge.is_leaf_edge()\n",
    "        p = edge.src\n",
    "        n = edge.dest\n",
    "        # this is an edge from parent p to node n\n",
    "        s_n = get_suffix_link_for_dest_node(edge, root)  # use the edge data to get the suffix node\n",
    "        n.add_suffix_link(s_n)\n",
    "        if debug:\n",
    "            print(f'Adding suffix link n{n.id} --> n{s_n.id}')\n",
    "        for (_, next_edge) in n.outgoing_edges.items():\n",
    "            if not next_edge.is_leaf_edge():\n",
    "                worklist.append(next_edge)\n",
    "    return worklist"
   ]
  },
  {
   "cell_type": "code",
   "execution_count": 7,
   "id": "03086a18",
   "metadata": {
    "ExecuteTime": {
     "end_time": "2024-03-28T19:25:43.253045Z",
     "start_time": "2024-03-28T19:25:42.652907Z"
    },
    "deletable": false,
    "editable": false,
    "nbgrader": {
     "cell_type": "code",
     "checksum": "b98ee9d45807fc6b05e5cab2ee1940c4",
     "grade": true,
     "grade_id": "cell-9f5670ed5cd348dd",
     "locked": true,
     "points": 5,
     "schema_version": 3,
     "solution": false,
     "task": false
    }
   },
   "outputs": [
    {
     "data": {
      "image/png": "[encoded data removed]",
      "text/plain": [
       "<Figure size 640x480 with 1 Axes>"
      ]
     },
     "metadata": {},
     "output_type": "display_data"
    },
    {
     "name": "stdout",
     "output_type": "stream",
     "text": [
      "Adding suffix link n8 --> n0\n",
      "Adding suffix link n6 --> n0\n",
      "Adding suffix link n10 --> n0\n"
     ]
    },
    {
     "ename": "AttributeError",
     "evalue": "'SuffixTrieLeaf' object has no attribute 'get_edge'",
     "output_type": "error",
     "traceback": [
      "\u001b[0;31m---------------------------------------------------------------------------\u001b[0m",
      "\u001b[0;31mAttributeError\u001b[0m                            Traceback (most recent call last)",
      "Cell \u001b[0;32mIn[7], line 3\u001b[0m\n\u001b[1;32m      1\u001b[0m root \u001b[38;5;241m=\u001b[39m make_suffix_trie_simple(\u001b[38;5;124m\"\u001b[39m\u001b[38;5;124mALFALFA$\u001b[39m\u001b[38;5;124m\"\u001b[39m)\n\u001b[1;32m      2\u001b[0m draw_networkx_graph(root)\n\u001b[0;32m----> 3\u001b[0m \u001b[43madd_all_suffix_links\u001b[49m\u001b[43m(\u001b[49m\u001b[43mroot\u001b[49m\u001b[43m)\u001b[49m\n\u001b[1;32m      4\u001b[0m draw_networkx_graph(root)\n\u001b[1;32m      6\u001b[0m check_suffix_links(root)\n",
      "Cell \u001b[0;32mIn[6], line 44\u001b[0m, in \u001b[0;36madd_all_suffix_links\u001b[0;34m(root, debug)\u001b[0m\n\u001b[1;32m     42\u001b[0m n \u001b[38;5;241m=\u001b[39m edge\u001b[38;5;241m.\u001b[39mdest\n\u001b[1;32m     43\u001b[0m \u001b[38;5;66;03m# this is an edge from parent p to node n\u001b[39;00m\n\u001b[0;32m---> 44\u001b[0m s_n \u001b[38;5;241m=\u001b[39m \u001b[43mget_suffix_link_for_dest_node\u001b[49m\u001b[43m(\u001b[49m\u001b[43medge\u001b[49m\u001b[43m,\u001b[49m\u001b[43m \u001b[49m\u001b[43mroot\u001b[49m\u001b[43m)\u001b[49m  \u001b[38;5;66;03m# use the edge data to get the suffix node\u001b[39;00m\n\u001b[1;32m     45\u001b[0m n\u001b[38;5;241m.\u001b[39madd_suffix_link(s_n)\n\u001b[1;32m     46\u001b[0m \u001b[38;5;28;01mif\u001b[39;00m debug:\n",
      "Cell \u001b[0;32mIn[6], line 19\u001b[0m, in \u001b[0;36mget_suffix_link_for_dest_node\u001b[0;34m(edge, root)\u001b[0m\n\u001b[1;32m     16\u001b[0m offset \u001b[38;5;241m=\u001b[39m lo \u001b[38;5;241m+\u001b[39m \u001b[38;5;241m1\u001b[39m\n\u001b[1;32m     18\u001b[0m \u001b[38;5;28;01mwhile\u001b[39;00m \u001b[38;5;28;01mTrue\u001b[39;00m:\n\u001b[0;32m---> 19\u001b[0m     suffix_edge \u001b[38;5;241m=\u001b[39m \u001b[43msuffix_parent\u001b[49m\u001b[38;5;241;43m.\u001b[39;49m\u001b[43mget_edge\u001b[49m(orig_str[offset])\n\u001b[1;32m     20\u001b[0m     \u001b[38;5;28;01mif\u001b[39;00m suffix_edge \u001b[38;5;129;01mis\u001b[39;00m \u001b[38;5;28;01mNone\u001b[39;00m:\n\u001b[1;32m     21\u001b[0m         \u001b[38;5;28;01mreturn\u001b[39;00m root\n",
      "\u001b[0;31mAttributeError\u001b[0m: 'SuffixTrieLeaf' object has no attribute 'get_edge'"
     ]
    }
   ],
   "source": [
    "root = make_suffix_trie_simple(\"ALFALFA$\")\n",
    "draw_networkx_graph(root)\n",
    "add_all_suffix_links(root)\n",
    "draw_networkx_graph(root)\n",
    "\n",
    "check_suffix_links(root)"
   ]
  },
  {
   "cell_type": "code",
   "execution_count": 8,
   "id": "9f2db13d",
   "metadata": {
    "ExecuteTime": {
     "end_time": "2024-03-28T19:25:44.505997Z",
     "start_time": "2024-03-28T19:25:43.900724Z"
    },
    "deletable": false,
    "editable": false,
    "nbgrader": {
     "cell_type": "code",
     "checksum": "81861aa5215d996444a085ac3f277501",
     "grade": true,
     "grade_id": "cell-a214cc965919675f",
     "locked": true,
     "points": 5,
     "schema_version": 3,
     "solution": false,
     "task": false
    }
   },
   "outputs": [
    {
     "data": {
      "image/png": "[encoded data removed]",
      "text/plain": [
       "<Figure size 640x480 with 1 Axes>"
      ]
     },
     "metadata": {},
     "output_type": "display_data"
    },
    {
     "name": "stdout",
     "output_type": "stream",
     "text": [
      "Adding suffix link n10 --> n0\n",
      "Adding suffix link n5 --> n10\n",
      "Adding suffix link n7 --> n0\n",
      "Adding suffix link n3 --> n3\n"
     ]
    },
    {
     "data": {
      "image/png": "[encoded data removed]",
      "text/plain": [
       "<Figure size 640x480 with 1 Axes>"
      ]
     },
     "metadata": {},
     "output_type": "display_data"
    },
    {
     "ename": "AssertionError",
     "evalue": "node 5 has string am but its  suffix node  has string a",
     "output_type": "error",
     "traceback": [
      "\u001b[0;31m---------------------------------------------------------------------------\u001b[0m",
      "\u001b[0;31mAssertionError\u001b[0m                            Traceback (most recent call last)",
      "Cell \u001b[0;32mIn[8], line 6\u001b[0m\n\u001b[1;32m      3\u001b[0m add_all_suffix_links(root)\n\u001b[1;32m      4\u001b[0m draw_networkx_graph(root)\n\u001b[0;32m----> 6\u001b[0m \u001b[43mcheck_suffix_links\u001b[49m\u001b[43m(\u001b[49m\u001b[43mroot\u001b[49m\u001b[43m)\u001b[49m\n",
      "Cell \u001b[0;32mIn[1], line 366\u001b[0m, in \u001b[0;36mcheck_suffix_links\u001b[0;34m(root)\u001b[0m\n\u001b[1;32m    364\u001b[0m     s1 \u001b[38;5;241m=\u001b[39m d[n\u001b[38;5;241m.\u001b[39mid]\n\u001b[1;32m    365\u001b[0m     s2 \u001b[38;5;241m=\u001b[39m d[s_n\u001b[38;5;241m.\u001b[39mid]\n\u001b[0;32m--> 366\u001b[0m     \u001b[38;5;28;01massert\u001b[39;00m s1[\u001b[38;5;241m1\u001b[39m:] \u001b[38;5;241m==\u001b[39m s2, \u001b[38;5;124mf\u001b[39m\u001b[38;5;124m'\u001b[39m\u001b[38;5;124mnode \u001b[39m\u001b[38;5;132;01m{\u001b[39;00mn\u001b[38;5;241m.\u001b[39mid\u001b[38;5;132;01m}\u001b[39;00m\u001b[38;5;124m has string \u001b[39m\u001b[38;5;132;01m{\u001b[39;00ms1\u001b[38;5;132;01m}\u001b[39;00m\u001b[38;5;124m but its  suffix node  has string \u001b[39m\u001b[38;5;132;01m{\u001b[39;00ms2\u001b[38;5;132;01m}\u001b[39;00m\u001b[38;5;124m'\u001b[39m\n\u001b[1;32m    367\u001b[0m \u001b[38;5;28mprint\u001b[39m(\u001b[38;5;124m\"\u001b[39m\u001b[38;5;124mSuffix links are all valid!\u001b[39m\u001b[38;5;124m\"\u001b[39m)\n",
      "\u001b[0;31mAssertionError\u001b[0m: node 5 has string am but its  suffix node  has string a"
     ]
    }
   ],
   "source": [
    "root = make_suffix_trie_simple(\"mamamia$\")\n",
    "draw_networkx_graph(root)\n",
    "add_all_suffix_links(root)\n",
    "draw_networkx_graph(root)\n",
    "\n",
    "check_suffix_links(root)"
   ]
  },
  {
   "cell_type": "code",
   "execution_count": 9,
   "id": "59af7132",
   "metadata": {
    "ExecuteTime": {
     "end_time": "2024-03-28T19:25:43.898825Z",
     "start_time": "2024-03-28T19:25:43.255647Z"
    },
    "deletable": false,
    "editable": false,
    "nbgrader": {
     "cell_type": "code",
     "checksum": "d759f3496d29c5a62520d07b86148d07",
     "grade": true,
     "grade_id": "cell-48fe0636afe59dbf",
     "locked": true,
     "points": 10,
     "schema_version": 3,
     "solution": false,
     "task": false
    }
   },
   "outputs": [
    {
     "data": {
      "image/png": "[encoded data removed]",
      "text/plain": [
       "<Figure size 640x480 with 1 Axes>"
      ]
     },
     "metadata": {},
     "output_type": "display_data"
    },
    {
     "name": "stdout",
     "output_type": "stream",
     "text": [
      "Adding suffix link n6 --> n0\n",
      "Adding suffix link n8 --> n0\n",
      "Adding suffix link n4 --> n4\n"
     ]
    },
    {
     "data": {
      "image/png": "[encoded data removed]",
      "text/plain": [
       "<Figure size 640x480 with 1 Axes>"
      ]
     },
     "metadata": {},
     "output_type": "display_data"
    },
    {
     "ename": "AssertionError",
     "evalue": "node 6 has string NA but its  suffix node  has string ",
     "output_type": "error",
     "traceback": [
      "\u001b[0;31m---------------------------------------------------------------------------\u001b[0m",
      "\u001b[0;31mAssertionError\u001b[0m                            Traceback (most recent call last)",
      "Cell \u001b[0;32mIn[9], line 6\u001b[0m\n\u001b[1;32m      3\u001b[0m add_all_suffix_links(root)\n\u001b[1;32m      4\u001b[0m draw_networkx_graph(root)\n\u001b[0;32m----> 6\u001b[0m \u001b[43mcheck_suffix_links\u001b[49m\u001b[43m(\u001b[49m\u001b[43mroot\u001b[49m\u001b[43m)\u001b[49m\n",
      "Cell \u001b[0;32mIn[1], line 366\u001b[0m, in \u001b[0;36mcheck_suffix_links\u001b[0;34m(root)\u001b[0m\n\u001b[1;32m    364\u001b[0m     s1 \u001b[38;5;241m=\u001b[39m d[n\u001b[38;5;241m.\u001b[39mid]\n\u001b[1;32m    365\u001b[0m     s2 \u001b[38;5;241m=\u001b[39m d[s_n\u001b[38;5;241m.\u001b[39mid]\n\u001b[0;32m--> 366\u001b[0m     \u001b[38;5;28;01massert\u001b[39;00m s1[\u001b[38;5;241m1\u001b[39m:] \u001b[38;5;241m==\u001b[39m s2, \u001b[38;5;124mf\u001b[39m\u001b[38;5;124m'\u001b[39m\u001b[38;5;124mnode \u001b[39m\u001b[38;5;132;01m{\u001b[39;00mn\u001b[38;5;241m.\u001b[39mid\u001b[38;5;132;01m}\u001b[39;00m\u001b[38;5;124m has string \u001b[39m\u001b[38;5;132;01m{\u001b[39;00ms1\u001b[38;5;132;01m}\u001b[39;00m\u001b[38;5;124m but its  suffix node  has string \u001b[39m\u001b[38;5;132;01m{\u001b[39;00ms2\u001b[38;5;132;01m}\u001b[39;00m\u001b[38;5;124m'\u001b[39m\n\u001b[1;32m    367\u001b[0m \u001b[38;5;28mprint\u001b[39m(\u001b[38;5;124m\"\u001b[39m\u001b[38;5;124mSuffix links are all valid!\u001b[39m\u001b[38;5;124m\"\u001b[39m)\n",
      "\u001b[0;31mAssertionError\u001b[0m: node 6 has string NA but its  suffix node  has string "
     ]
    }
   ],
   "source": [
    "root = make_suffix_trie_simple(\"BANANA$\")\n",
    "draw_networkx_graph(root)\n",
    "add_all_suffix_links(root)\n",
    "draw_networkx_graph(root)\n",
    "\n",
    "check_suffix_links(root)"
   ]
  },
  {
   "cell_type": "markdown",
   "id": "99847615",
   "metadata": {
    "deletable": false,
    "editable": false,
    "nbgrader": {
     "cell_type": "markdown",
     "checksum": "3d3f5a9302f6a09f64d00804bbe1fa0d",
     "grade": false,
     "grade_id": "cell-f15aea5826906889",
     "locked": true,
     "schema_version": 3,
     "solution": false,
     "task": false
    }
   },
   "source": [
    "## Problem 3\n",
    "\n",
    "Given a string $s$ of length $n$, find the longest palindrome that is a substring of $s$ in time $O(|s|)$. You may use copy over the implementation of Ukkonen's algorithm from the notes compute the suffix trie for $s$ or the method from the previous problem even though it takes $O(|s|^2)$.\n"
   ]
  },
  {
   "cell_type": "code",
   "execution_count": 16,
   "id": "9bf32b65",
   "metadata": {
    "ExecuteTime": {
     "end_time": "2024-03-28T19:36:29.240734Z",
     "start_time": "2024-03-28T19:36:29.233646Z"
    },
    "deletable": false,
    "nbgrader": {
     "cell_type": "code",
     "checksum": "42c2facb31ad6e51a07db9e23adad6bd",
     "grade": false,
     "grade_id": "cell-b76d8959603ee437",
     "locked": false,
     "schema_version": 3,
     "solution": true,
     "task": false
    }
   },
   "outputs": [],
   "source": [
    "def find_longest_palindrome(s):\n",
    "    # your code here\n",
    "    # Transform the string to handle palindromes uniformly\n",
    "    T = \"#\".join(\"^{}$\".format(s))  # Adding '^' and '$' to prevent bounds checking\n",
    "    n = len(T)\n",
    "    P = [0] * n  # Array to store the radius of the palindrome\n",
    "    C = R = 0  # Current center (C) and right edge (R)\n",
    "\n",
    "    for i in range(1, n-1):\n",
    "        P[i] = (R > i) and min(R - i, P[2 * C - i])  # Use previously computed palindromic radius\n",
    "\n",
    "        # Attempt to expand palindrome centered at i, ensure within bounds\n",
    "        while i + P[i] + 1 < n and i - P[i] - 1 >= 0 and T[i + P[i] + 1] == T[i - P[i] - 1]:\n",
    "            P[i] += 1\n",
    "\n",
    "        # If palindrome centered at i expand past R, adjust the center and R\n",
    "        if i + P[i] > R:\n",
    "            C, R = i, i + P[i]\n",
    "\n",
    "    # Find the maximum element in P\n",
    "    max_len, center_index = max((n, i) for i, n in enumerate(P))\n",
    "    start = (center_index - max_len) // 2  # Adjust back to the original string indices\n",
    "    return s[start: start + max_len]"
   ]
  },
  {
   "cell_type": "code",
   "execution_count": 17,
   "id": "feb6012c",
   "metadata": {
    "ExecuteTime": {
     "end_time": "2024-03-28T19:36:30.396371Z",
     "start_time": "2024-03-28T19:36:30.064995Z"
    },
    "deletable": false,
    "editable": false,
    "nbgrader": {
     "cell_type": "code",
     "checksum": "e75f892bda64a588e8a1f571cd6889ea",
     "grade": true,
     "grade_id": "cell-9c3528afd487a5c7",
     "locked": true,
     "points": 5,
     "schema_version": 3,
     "solution": false,
     "task": false
    }
   },
   "outputs": [
    {
     "name": "stdout",
     "output_type": "stream",
     "text": [
      "ADA\n"
     ]
    }
   ],
   "source": [
    "t = find_longest_palindrome(\"ABRACADABRA$\")\n",
    "print(t)\n",
    "assert t == \"ADA\" or t == \"ACA\""
   ]
  },
  {
   "cell_type": "code",
   "execution_count": 18,
   "id": "ce5b1924",
   "metadata": {
    "ExecuteTime": {
     "end_time": "2024-03-28T19:36:33.980740Z",
     "start_time": "2024-03-28T19:36:33.648132Z"
    },
    "deletable": false,
    "editable": false,
    "nbgrader": {
     "cell_type": "code",
     "checksum": "a1bd91f55aa270de6af1d083aa5cb121",
     "grade": true,
     "grade_id": "cell-3b44b10834539d56",
     "locked": true,
     "points": 5,
     "schema_version": 3,
     "solution": false,
     "task": false
    }
   },
   "outputs": [
    {
     "name": "stdout",
     "output_type": "stream",
     "text": [
      "MALAYALAM\n"
     ]
    }
   ],
   "source": [
    "t = find_longest_palindrome(\"MALAYALAM$\")\n",
    "print(t)\n",
    "assert t == \"MALAYALAM\""
   ]
  },
  {
   "cell_type": "code",
   "execution_count": 19,
   "id": "e3740fe3",
   "metadata": {
    "ExecuteTime": {
     "end_time": "2024-03-28T19:36:38.048350Z",
     "start_time": "2024-03-28T19:36:37.741105Z"
    },
    "deletable": false,
    "editable": false,
    "nbgrader": {
     "cell_type": "code",
     "checksum": "00ed3391da9ccf75d0f1aa34128e3136",
     "grade": true,
     "grade_id": "cell-3ae5a23c7fb21cf7",
     "locked": true,
     "points": 5,
     "schema_version": 3,
     "solution": false,
     "task": false
    }
   },
   "outputs": [
    {
     "name": "stdout",
     "output_type": "stream",
     "text": [
      "CDC\n"
     ]
    }
   ],
   "source": [
    "t = find_longest_palindrome(\"ABCDCAB$\")\n",
    "print(t)\n",
    "assert t == \"CDC\""
   ]
  },
  {
   "cell_type": "code",
   "execution_count": 56,
   "id": "def08c5f",
   "metadata": {
    "ExecuteTime": {
     "end_time": "2024-03-28T19:36:44.481252Z",
     "start_time": "2024-03-28T19:36:43.777346Z"
    },
    "deletable": false,
    "editable": false,
    "nbgrader": {
     "cell_type": "code",
     "checksum": "7b5eb0c90ccc6d8ed82673bde550267d",
     "grade": true,
     "grade_id": "cell-955f49daf59e27b8",
     "locked": true,
     "points": 5,
     "schema_version": 3,
     "solution": false,
     "task": false
    }
   },
   "outputs": [
    {
     "name": "stdout",
     "output_type": "stream",
     "text": [
      "GACTGGGGGTCAG\n"
     ]
    }
   ],
   "source": [
    "t = find_longest_palindrome(\"ACAGCGACTTAGGCAGACTGGGGGTCAGCGATTGAGGCA$\")\n",
    "print(t)\n",
    "assert len(t) == 13 \n",
    "assert t == \"GACTGGGGGTCAG\""
   ]
  },
  {
   "cell_type": "markdown",
   "id": "a707452d",
   "metadata": {
    "deletable": false,
    "editable": false,
    "nbgrader": {
     "cell_type": "markdown",
     "checksum": "da399b8fecb51493b3705ed5a6ba2e0f",
     "grade": false,
     "grade_id": "cell-f59efda8754561e3",
     "locked": true,
     "schema_version": 3,
     "solution": false,
     "task": false
    }
   },
   "source": [
    "## Answers to select manual problems\n",
    "\n",
    "### 2(A) \n",
    "Since $r$ is the root, the substring would be $s[lo+1]\\cdots s[hi]$ if $hi > lo$ or else it would simply be the empty substring.\n",
    "### 2(B)\n",
    "The substring in this case would be $s[lo],\\ldots, s[hi]$.\n",
    "### 2(C)\n",
    "It should be $n0$. Since the parent of n8 is the root, it must be an edge of offset 0 starting from the root, which is the root itself.\n",
    "### 2(D)\n",
    "It should be $n6$. We note that the string along $n8 \\rightarrow n4$ is \"NA\". We note that following the string \"NA\" from the root gives us the target $n6$. Therefore, $\\suff(n4) = n6$.\n",
    "\n",
    "## That's All Folks"
   ]
  },
  {
   "cell_type": "code",
   "execution_count": null,
   "id": "932cf95d",
   "metadata": {},
   "outputs": [],
   "source": []
  }
 ],
 "metadata": {
  "kernelspec": {
   "display_name": "Python 3 (ipykernel)",
   "language": "python",
   "name": "python3"
  },
  "language_info": {
   "codemirror_mode": {
    "name": "ipython",
    "version": 3
   },
   "file_extension": ".py",
   "mimetype": "text/x-python",
   "name": "python",
   "nbconvert_exporter": "python",
   "pygments_lexer": "ipython3",
   "version": "3.10.6"
  }
 },
 "nbformat": 4,
 "nbformat_minor": 5
}
