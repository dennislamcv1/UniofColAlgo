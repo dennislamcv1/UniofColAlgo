{
 "cells": [
  {
   "cell_type": "markdown",
   "metadata": {
    "deletable": false,
    "editable": false,
    "nbgrader": {
     "cell_type": "markdown",
     "checksum": "b4a613e7d912a8573ab6d1b27d1c4d5e",
     "grade": false,
     "grade_id": "cell-750141c6f8bfef8b",
     "locked": true,
     "schema_version": 3,
     "solution": false,
     "task": false
    }
   },
   "source": [
    "# Part 1: Implement Binary Search Tree \n",
    "\n",
    "We will begin by implementing binary search tree data structure in python. Please read the descriptions of functions carefully and complete them according to description. You should be familiar with objects in python. There are many tutorials online that you can use for this : https://www.tutorialspoint.com/python/python_classes_objects.htm"
   ]
  },
  {
   "cell_type": "code",
   "execution_count": 1,
   "metadata": {
    "deletable": false,
    "nbgrader": {
     "cell_type": "code",
     "checksum": "86fc1a374ee0966203dfa6f29adcbdf2",
     "grade": false,
     "grade_id": "cell-e9863eea621076e4",
     "locked": false,
     "schema_version": 3,
     "solution": true,
     "task": false
    }
   },
   "outputs": [],
   "source": [
    "class Node: \n",
    "    # Implement a node of the binary search tree.\n",
    "    # Constructor for a node with key and a given parent\n",
    "    # parent can be None for a root node.\n",
    "    def __init__(self, key, parent = None): \n",
    "        self.key = key\n",
    "        self.parent = parent \n",
    "        self.left = None # We will set left and right child to None\n",
    "        self.right = None\n",
    "        # Make sure that the parent's left/right pointer\n",
    "        # will point to the newly created node.\n",
    "        if parent != None:\n",
    "            if key < parent.key:\n",
    "                assert(parent.left == None), 'parent already has a left child -- unable to create node'\n",
    "                parent.left = self\n",
    "            else: \n",
    "                assert key > parent.key, 'key is same as parent.key. We do not allow duplicate keys in a BST since it breaks some of the algorithms.'\n",
    "                assert(parent.right == None ), 'parent already has a right child -- unable to create node'\n",
    "                parent.right = self\n",
    "        \n",
    "    # Utility function that keeps traversing left until it finds \n",
    "    # the leftmost descendant\n",
    "    def get_leftmost_descendant(self):\n",
    "        if self.left != None:\n",
    "            return self.left.get_leftmost_descendant()\n",
    "        else:\n",
    "            return self\n",
    "    \n",
    "    # TODO: Complete the search algorithm below\n",
    "    # You can call search recursively on left or right child\n",
    "    # as appropriate.\n",
    "    # If search succeeds: return a tuple True and the node in the tree\n",
    "    # with the key we are searching for.\n",
    "    # Also note that if the search fails to find the key \n",
    "    # you should return a tuple False and the node which would\n",
    "    # be the parent if we were to insert the key subsequently.\n",
    "    def search(self, key):\n",
    "        if self.key == key: \n",
    "            return (True, self)\n",
    "        # your code here\n",
    "        elif key < self.key:\n",
    "            if self.left:\n",
    "                return self.left.search(key)\n",
    "            else:\n",
    "                return (False, self)\n",
    "        else:\n",
    "            if self.right:\n",
    "                return self.right.search(key)\n",
    "            else:\n",
    "                return (False, self)\n",
    "    \n",
    "    #TODO: Complete the insert algorithm below\n",
    "    # To insert first search for it and find out\n",
    "    # the parent whose child the currently inserted key will be.\n",
    "    # Create a new node with that key and insert.\n",
    "    # return None if key already exists in the tree.\n",
    "    # return the new node corresponding to the inserted key otherwise.\n",
    "    def insert(self, key):\n",
    "        # your code here\n",
    "        found, node = self.search(key)\n",
    "        if found:\n",
    "            return None\n",
    "        else:\n",
    "            return Node(key, node)\n",
    "        \n",
    "    # TODO: Complete algorithm to compute height of the tree\n",
    "    # height of a node whose children are both None is defined\n",
    "    # to be 1.\n",
    "    # height of any other node is 1 + maximum of the height \n",
    "    # of its children.\n",
    "    # Return a number that is th eheight.\n",
    "    def height(self):\n",
    "        # your code here\n",
    "        left_height = self.left.height() if self.left else 0\n",
    "        right_height = self.right.height() if self.right else 0\n",
    "        return 1 + max(left_height, right_height)\n",
    "    \n",
    "    #TODO: Write an algorithm to delete a key in the tree.\n",
    "    # First, find the node in the tree with the key.\n",
    "    # Recommend drawing pictures to visualize these cases below before\n",
    "    # programming.\n",
    "    # Case 1: both children of the node are None\n",
    "    #   -- in this case, deletion is easy: simply find out if the node with key is its\n",
    "    #      parent's left/right child and set the corr. child to None in the parent node.\n",
    "    # Case 2: one of the child is None and the other is not.\n",
    "    #   -- replace the node with its only child. In other words,\n",
    "    #      modify the parent of the child to be the to be deleted node's parent.\n",
    "    #      also change the parent's left/right child appropriately.\n",
    "    # Case 3: both children of the parent are not None.\n",
    "    #    -- first find its successor (go one step right and all the way to the left).\n",
    "    #    -- function get_leftmost_descendant may be helpful here.\n",
    "    #    -- replace the key of the node by its successor.\n",
    "    #    -- delete the successor node.\n",
    "    # return: no return value specified\n",
    "    \n",
    "    def delete(self, key):\n",
    "        (found, node_to_delete) = self.search(key)\n",
    "        assert(found == True), f\"key to be deleted:{key}- does not exist in the tree\"\n",
    "        # your code here\n",
    "        if node_to_delete.left is None and node_to_delete.right is None:  # Case 1\n",
    "            if node_to_delete.parent:\n",
    "                if node_to_delete.parent.left == node_to_delete:\n",
    "                    node_to_delete.parent.left = None\n",
    "                else:\n",
    "                    node_to_delete.parent.right = None\n",
    "            node_to_delete.parent = None\n",
    "        \n",
    "        elif node_to_delete.left is None or node_to_delete.right is None:  # Case 2\n",
    "            child = node_to_delete.left if node_to_delete.left else node_to_delete.right\n",
    "            if node_to_delete.parent:\n",
    "                if node_to_delete.parent.left == node_to_delete:\n",
    "                    node_to_delete.parent.left = child\n",
    "                else:\n",
    "                    node_to_delete.parent.right = child\n",
    "            child.parent = node_to_delete.parent\n",
    "        \n",
    "        else:  # Case 3\n",
    "            successor = node_to_delete.right.get_leftmost_descendant()\n",
    "            node_to_delete.key = successor.key\n",
    "            successor.delete(successor.key)"
   ]
  },
  {
   "cell_type": "code",
   "execution_count": 2,
   "metadata": {
    "deletable": false,
    "editable": false,
    "nbgrader": {
     "cell_type": "code",
     "checksum": "563eb77241bc953d40c126abe438dfea",
     "grade": true,
     "grade_id": "cell-7e7ccbff1c7a955a",
     "locked": true,
     "points": 15,
     "schema_version": 3,
     "solution": false,
     "task": false
    }
   },
   "outputs": [
    {
     "name": "stdout",
     "output_type": "stream",
     "text": [
      "-- Testing basic node construction (originally provided code) -- \n",
      "-- Testing search -- \n",
      "-- Testing insert -- \n",
      "-- Testing height -- \n",
      "Success: 15 points.\n"
     ]
    }
   ],
   "source": [
    "t1 = Node(25, None)\n",
    "t2 = Node(12, t1)\n",
    "t3 = Node(18, t2)\n",
    "t4 = Node(40, t1)\n",
    "\n",
    "print('-- Testing basic node construction (originally provided code) -- ')\n",
    "assert(t1.left == t2), 'test 1 failed'\n",
    "assert(t2.parent == t1),  'test 2 failed'\n",
    "assert(t2.right == t3), 'test 3 failed'\n",
    "assert (t3.parent == t2), 'test 4 failed'\n",
    "assert(t1.right == t4), 'test 5 failed'\n",
    "assert(t4.left == None), 'test 6 failed'\n",
    "assert(t4.right == None), 'test 7 failed'\n",
    "# The tree should be : \n",
    "#             25\n",
    "#             /\\\n",
    "#         12     40\n",
    "#         /\\\n",
    "#     None  18\n",
    "#\n",
    "\n",
    "print('-- Testing search -- ')\n",
    "(b, found_node) = t1.search(18)\n",
    "assert b and found_node.key == 18, 'test 8 failed'\n",
    "(b, found_node) = t1.search(25)\n",
    "assert b and found_node.key == 25, 'test 9 failed -- you should find the node with key 25 which is the root'\n",
    "(b, found_node) = t1.search(26)\n",
    "assert(not b), 'test 10 failed'\n",
    "assert(found_node.key == 40), 'test 11 failed -- you should be returning the leaf node which would be the parent to the node you failed to find if it were to be inserted in the tree.'\n",
    "\n",
    "print('-- Testing insert -- ')\n",
    "ins_node = t1.insert(26)\n",
    "assert ins_node.key == 26, ' test 12 failed '\n",
    "assert ins_node.parent == t4,  ' test 13 failed '\n",
    "assert t4.left == ins_node,  ' test 14 failed '\n",
    "\n",
    "ins_node2 = t1.insert(33)\n",
    "assert ins_node2.key == 33, 'test 15 failed'\n",
    "assert ins_node2.parent == ins_node, 'test 16 failed'\n",
    "assert ins_node.right == ins_node2, 'test 17 failed'\n",
    "\n",
    "print('-- Testing height -- ')\n",
    "\n",
    "assert t1.height() == 4, 'test 18 failed'\n",
    "assert t4.height() == 3, 'test 19 failed'\n",
    "assert t2.height() == 2, 'test 20 failed'\n",
    "\n",
    "print('Success: 15 points.')"
   ]
  },
  {
   "cell_type": "code",
   "execution_count": 3,
   "metadata": {
    "deletable": false,
    "editable": false,
    "nbgrader": {
     "cell_type": "code",
     "checksum": "74caa7f2d99c2d32887345aea1c7e392",
     "grade": true,
     "grade_id": "cell-f721b5b3b9c814b9",
     "locked": true,
     "points": 15,
     "schema_version": 3,
     "solution": false,
     "task": false
    }
   },
   "outputs": [
    {
     "name": "stdout",
     "output_type": "stream",
     "text": [
      "-- All tests passed: 15 points!--\n"
     ]
    }
   ],
   "source": [
    "# Testing deletion\n",
    "t1 = Node(16, None)\n",
    "# insert the nodes in the list\n",
    "lst = [18,25,10, 14, 8, 22, 17, 12]\n",
    "for elt in lst:\n",
    "    t1.insert(elt)\n",
    "\n",
    "# The tree should look like this\n",
    "#               16\n",
    "#            /     \\\n",
    "#          10      18\n",
    "#        /  \\     /  \\\n",
    "#       8   14   17  25\n",
    "#          /         /  \n",
    "#         12        22\n",
    "\n",
    "\n",
    "# Let us test the three deletion cases.\n",
    "# case 1 let's delete node 8\n",
    "# node 8 does not have left or right children.\n",
    "t1.delete(8) # should have both children nil.\n",
    "(b8,n8) = t1.search(8)\n",
    "assert not b8, 'Test A: deletion fails to delete node.'\n",
    "(b,n) = t1.search(10)\n",
    "assert( b) , 'Test B failed: search does not work'\n",
    "assert n.left == None, 'Test C failed: Node 8 was not properly deleted.'\n",
    "\n",
    "# Let us test deleting the node 14 whose right child is none.\n",
    "# n is still pointing to the node 10 after deleting 8.\n",
    "# let us ensure that it's right child is 14\n",
    "assert n.right != None, 'Test D failed: node 10 should have right child 14'\n",
    "assert n.right.key == 14, 'Test E failed: node 10 should have right child 14'\n",
    "\n",
    "# Let's delete node 14\n",
    "t1.delete(14)\n",
    "(b14, n14) = t1.search(14)\n",
    "assert not b14, 'Test F: Deletion of node 14 failed -- it still exists in the tree.'\n",
    "(b,n) = t1.search(10)\n",
    "assert n.right != None , 'Test G failed: deletion of node 14 not handled correctly'\n",
    "assert n.right.key == 12, f'Test H failed: deletion of node 14 not handled correctly: {n.right.key}'\n",
    "\n",
    "# Let's delete node 18 in the tree. \n",
    "# It should be replaced by 22.\n",
    "\n",
    "t1.delete(18)\n",
    "(b18, n18) = t1.search(18)\n",
    "assert not b18, 'Test I: Deletion of node 18 failed'\n",
    "assert t1.right.key == 22 , ' Test J: Replacement of node with successor failed.'\n",
    "assert t1.right.right.left == None, ' Test K: replacement of node with successor failed -- you did not delete the successor leaf properly?'\n",
    "\n",
    "print('-- All tests passed: 15 points!--')"
   ]
  },
  {
   "cell_type": "markdown",
   "metadata": {
    "deletable": false,
    "editable": false,
    "nbgrader": {
     "cell_type": "markdown",
     "checksum": "0f6e0032713b4c21dc1faca0a3e059ea",
     "grade": false,
     "grade_id": "cell-2794e9d30eda0994",
     "locked": true,
     "schema_version": 3,
     "solution": false,
     "task": false
    }
   },
   "source": [
    "# Part 2: Height of Random Binary Search Trees\n",
    "\n",
    "The height of a binary search tree depends on the order in which we insert the keys of the tree. In this problem, we investigate a curious link between the recursion depth of quicksort algorithm on an array of n elements and the depth of binary search trees.\n",
    "\n",
    "Suppose we wish to insert keys the set of keys from $\\{0, \\ldots, n-1\\}$ into a binary search tree. Answer the questions below."
   ]
  },
  {
   "cell_type": "markdown",
   "metadata": {
    "deletable": false,
    "editable": false,
    "nbgrader": {
     "cell_type": "markdown",
     "checksum": "b926d1d3bcd4c4f311076d0bc9f382c4",
     "grade": false,
     "grade_id": "cell-badad478014d6494",
     "locked": true,
     "schema_version": 3,
     "solution": false,
     "task": false
    }
   },
   "source": [
    "### 2(A)\n",
    "Provide examples of insertion sequences such that the resulting tree will have the worst possible  height of $n$. Note that the answer below will not be graded but you are encouraged to solve it and compare with the solutions."
   ]
  },
  {
   "cell_type": "markdown",
   "metadata": {
    "deletable": false,
    "nbgrader": {
     "cell_type": "markdown",
     "checksum": "e5889e2779c2a4d1c2e430be1c55fd39",
     "grade": true,
     "grade_id": "cell-daa2a7549ded138e",
     "locked": false,
     "points": 0,
     "schema_version": 3,
     "solution": true,
     "task": false
    }
   },
   "source": [
    "YOUR ANSWER HERE"
   ]
  },
  {
   "cell_type": "markdown",
   "metadata": {
    "deletable": false,
    "editable": false,
    "nbgrader": {
     "cell_type": "markdown",
     "checksum": "05dcc1c5fc4ec2e5e267d655f48790ec",
     "grade": false,
     "grade_id": "cell-7187bf3ede661909",
     "locked": true,
     "schema_version": 3,
     "solution": false,
     "task": false
    }
   },
   "source": [
    "### 2(B) \n",
    "Let `s1,...,sj` be a sequence of $j \\geq 1$ keys inserted, wherein each `si` is a number between `0` and `n-1` and each number in the sequence is unique.\n",
    "\n",
    "Prove that if the sequence yields a tree of height `j` (worst possible case) then `s1` must be the minimum or maximum element in the sequence. \n",
    "\n",
    "**Hint:** Proof by contradiction will work. First note that `s1` will be the root of the tree obtained. Show that if `s1` is not the minimum or maximum then the resulting tree will have height < `n-1`). Note that the answer below will not be graded but you are encouraged to solve it and compare with the solutions."
   ]
  },
  {
   "cell_type": "markdown",
   "metadata": {
    "deletable": false,
    "nbgrader": {
     "cell_type": "markdown",
     "checksum": "d0514787d37af71c43b24af6211ad310",
     "grade": true,
     "grade_id": "cell-2c4db194be4a08f8",
     "locked": false,
     "points": 0,
     "schema_version": 3,
     "solution": true,
     "task": false
    }
   },
   "source": [
    "YOUR ANSWER HERE"
   ]
  },
  {
   "cell_type": "markdown",
   "metadata": {
    "deletable": false,
    "editable": false,
    "nbgrader": {
     "cell_type": "markdown",
     "checksum": "9a31f750231d146824510253fcd1edcc",
     "grade": false,
     "grade_id": "cell-cb2fe8181cbb29b8",
     "locked": true,
     "schema_version": 3,
     "solution": false,
     "task": false
    }
   },
   "source": [
    "### 2(C)\n",
    "Using the implementation of the binary search tree in part 1, complete the function `calculateAverageDepth(n, numTrials)` that performs the following experiment `numTrials` number of times.\n",
    "\n",
    "Each experiment run is as follows:\n",
    "\n",
    "- Take a list of numbers from 0 to n-1.\n",
    "- Randomly shuffle the list: use random.shuffle function or (advanced) write your own shuffle.\n",
    "- Insert the randomly shuffled list into a tree.\n",
    "- Find and return the depth of the tree.\n",
    "\n",
    "Finally, we run the experiment above `numTrials` times and take the average of all the trials.\n",
    "\n",
    "We then plot the average depth of a random binary search tree as a function of n.\n"
   ]
  },
  {
   "cell_type": "code",
   "execution_count": 4,
   "metadata": {
    "deletable": false,
    "nbgrader": {
     "cell_type": "code",
     "checksum": "757ee4e27f009daa9b06cd39989298f2",
     "grade": false,
     "grade_id": "cell-f69051b8ddb67b88",
     "locked": false,
     "schema_version": 3,
     "solution": true,
     "task": false
    }
   },
   "outputs": [],
   "source": [
    "import random\n",
    "\n",
    "# 1. make list of  numbers from 0 to n-1\n",
    "# 2. randomly shuffle the list\n",
    "# 3. insert the random list elements in order into a tree.\n",
    "# 4. return the height of the resulting ree.\n",
    "def run_single_experiment(n):\n",
    "    # your code here\n",
    "    elements = list(range(n))\n",
    "    random.shuffle(elements)\n",
    "    root = Node(elements[0])\n",
    "    for elem in elements[1:]:\n",
    "        root.insert(elem)\n",
    "    return root.height()\n",
    "    \n",
    "def run_multiple_trials(n, numTrials):\n",
    "    lst_of_depths = [run_single_experiment(n) for j in range(numTrials)]\n",
    "    return (sum(lst_of_depths)/len(lst_of_depths), lst_of_depths)\n",
    "    "
   ]
  },
  {
   "cell_type": "code",
   "execution_count": 5,
   "metadata": {
    "deletable": false,
    "editable": false,
    "nbgrader": {
     "cell_type": "code",
     "checksum": "d10bf210f7b2f0fa372f6880a7e923b5",
     "grade": true,
     "grade_id": "cell-2d0bddb25820a123",
     "locked": true,
     "points": 15,
     "schema_version": 3,
     "solution": false,
     "task": false
    }
   },
   "outputs": [
    {
     "name": "stdout",
     "output_type": "stream",
     "text": [
      "Average depth for 64 = 11.676\n",
      "Average depth for 128 = 14.119\n",
      "Passed all tests -- 15 points\n"
     ]
    },
    {
     "data": {
      "image/png": "[encoded data removed]",
      "text/plain": [
       "<Figure size 432x288 with 1 Axes>"
      ]
     },
     "metadata": {
      "needs_background": "light"
     },
     "output_type": "display_data"
    },
    {
     "data": {
      "image/png": "[encoded data removed]",
      "text/plain": [
       "<Figure size 432x288 with 1 Axes>"
      ]
     },
     "metadata": {
      "needs_background": "light"
     },
     "output_type": "display_data"
    },
    {
     "data": {
      "image/png": "[encoded data removed]",
      "text/plain": [
       "<Figure size 432x288 with 1 Axes>"
      ]
     },
     "metadata": {
      "needs_background": "light"
     },
     "output_type": "display_data"
    }
   ],
   "source": [
    "%matplotlib inline\n",
    "from matplotlib import pyplot as plt\n",
    "import math \n",
    "\n",
    "(avg64, lst_of_results_64) = run_multiple_trials(64,1000)\n",
    "plt.hist(lst_of_results_64)\n",
    "plt.xlim(0,64)\n",
    "plt.xlabel('Depth of Tree')\n",
    "plt.ylabel('Frequency')\n",
    "plt.title('Histogram of depths for n = 64')\n",
    "print(f'Average depth for 64 = {avg64}')\n",
    "assert avg64 <= 12 and avg64 >= 8\n",
    "\n",
    "plt.figure()\n",
    "(avg128, lst_of_results_128) = run_multiple_trials(128,1000)\n",
    "print(f'Average depth for 128 = {avg128}')\n",
    "assert avg128 <= 16 and avg128 >= 12\n",
    "\n",
    "\n",
    "plt.hist(lst_of_results_128)\n",
    "plt.xlim(0,128)\n",
    "plt.xlabel('Depth of Tree')\n",
    "plt.ylabel('Frequency')\n",
    "plt.title('Histogram of depths for n = 128')\n",
    "\n",
    "nmin=16\n",
    "nmax=64\n",
    "\n",
    "lst_of_average_depths = [ run_multiple_trials(j,1000)[0] for j in range(nmin,nmax)]\n",
    "plt.figure()\n",
    "l1 = plt.plot(range(nmin,nmax), lst_of_average_depths,label='Avg. Depth')\n",
    "plt.xlabel('n')\n",
    "plt.ylabel('depth')\n",
    "l2 = plt.plot(range(nmin,nmax), [1.6* math.log(j)/math.log(2) for j in range(nmin,nmax)],'--r',label='1.6log2(n)')\n",
    "l3 = plt.plot(range(nmin,nmax), [2.2* math.log(j)/math.log(2) for j in range(nmin,nmax)],'--b',label='2.2log2(n)')\n",
    "#plt.legend(handles=[l1, l2, l3])\n",
    "plt.title('Average depth as a function of n and comparison with 1.6 log2(n), 2.2 log2(n)')\n",
    "print('Passed all tests -- 15 points')\n"
   ]
  },
  {
   "cell_type": "markdown",
   "metadata": {
    "deletable": false,
    "editable": false,
    "nbgrader": {
     "cell_type": "markdown",
     "checksum": "4056b62692317ac817d62d34fc7144e0",
     "grade": false,
     "grade_id": "cell-418c47c2b19ec6d1",
     "locked": true,
     "schema_version": 3,
     "solution": false,
     "task": false
    }
   },
   "source": [
    "The histograms and plots should show an amazing fact that although the worst case depth can be as large as $n$, the depth of a random binary search tree is concentrated between $1.8\\log_2(n)$ and $2.2 \\log_2(n)$.\n",
    "\n",
    "This is interesting since if we can ensure that the keys are inserted at random, a BST can be quite well balanced with very high probability. There are many clever ideas on how this can be achieved in practice even if the user does not insert keys randomly. One way is called _treaps_, which we sometimes present in this class but decided to leave out for the coursera data-structures class. You can watch the treaps lecture here:\n",
    "https://youtu.be/d0rlrRZc-0s"
   ]
  },
  {
   "cell_type": "markdown",
   "metadata": {
    "deletable": false,
    "editable": false,
    "nbgrader": {
     "cell_type": "markdown",
     "checksum": "39cdc01395ad419eede7a1da2162be60",
     "grade": false,
     "grade_id": "cell-c21e93398e157b12",
     "locked": true,
     "schema_version": 3,
     "solution": false,
     "task": false
    }
   },
   "source": [
    "## Solutions to Manually Graded Problems"
   ]
  },
  {
   "cell_type": "markdown",
   "metadata": {
    "deletable": false,
    "editable": false,
    "nbgrader": {
     "cell_type": "markdown",
     "checksum": "b1e699442c67899526caa73525835488",
     "grade": false,
     "grade_id": "cell-4bbf4468ca11cf32",
     "locked": true,
     "schema_version": 3,
     "solution": false,
     "task": false
    }
   },
   "source": [
    "### 2(A)\n",
    "\n",
    "Examples of worst case sequences include inserting in \n",
    "ascending order [0,1,...,n-1] or descending order [0,1,...,n-1].\n",
    "\n",
    "\n",
    "### 2(B)\n",
    "\n",
    "Assuming for the sake of contradition that s1 is not the least or maximum element. However, s1 will be the root of the tree. Then there must exist a non-zero number of elements that are in the left subtree of s1 and a non-zero number of elements in the right subtree. Therefore, the maximum size of any path from root to leaf must be strictly less than j. However, the height of the tree is j. Therefore, we obtain a contradiction.\n",
    "\n"
   ]
  }
 ],
 "metadata": {
  "kernelspec": {
   "display_name": "Python 3",
   "language": "python",
   "name": "python3"
  },
  "language_info": {
   "codemirror_mode": {
    "name": "ipython",
    "version": 3
   },
   "file_extension": ".py",
   "mimetype": "text/x-python",
   "name": "python",
   "nbconvert_exporter": "python",
   "pygments_lexer": "ipython3",
   "version": "3.7.6"
  }
 },
 "nbformat": 4,
 "nbformat_minor": 5
}
